{
 "cells": [
  {
   "cell_type": "markdown",
   "metadata": {},
   "source": [
    "# Определение перспективного тарифа для телеком компании\n",
    "\n",
    "## Описание проекта\n",
    "\n",
    "Имеются данные о поведении клиентов при использовании тарифных планов. Клиентам предлагают два тарифных плана: «Смарт» и «Ультра». \n",
    "Необходимо выполнить предварительный анализ тарифов на небольшой выборке клиентов.\n",
    "Исходные данные: данные 500 пользователей: кто они, откуда, каким тарифом пользуются, сколько звонков и сообщений каждый отправил за 2018 год. Нужно проанализировать поведение клиентов и сделать вывод — какой тариф лучше.\n",
    "\n",
    "## Описание тарифов\n",
    "### Тариф «Смарт»\n",
    "+ Ежемесячная плата: 550 рублей\n",
    "+ Включено 500 минут разговора, 50 сообщений и 15 Гб интернет-трафика\n",
    "+ Стоимость услуг сверх тарифного пакета:\n",
    " + минута разговора: 3 рубля\n",
    " + сообщение: 3 рубля\n",
    " + 1 Гб интернет-трафика: 200 рублей\n",
    "\n",
    "### Тариф «Ультра»\n",
    "+ Ежемесячная плата: 1950 рублей\n",
    "+ Включено 3000 минут разговора, 1000 сообщений и 30 Гб интернет-трафика\n",
    "+ Стоимость услуг сверх тарифного пакета:\n",
    " + минута разговора: 1 рубль\n",
    " + сообщение: 1 рубль\n",
    " + 1 Гб интернет-трафика: 150 рублей\n",
    "\n",
    "Значения минут и мегабайтов округляется вверх. Если пользователь проговорил всего 1 секунду, в тарифе засчитывается целая минута."
   ]
  },
  {
   "cell_type": "markdown",
   "metadata": {},
   "source": [
    "## Общее"
   ]
  },
  {
   "cell_type": "markdown",
   "metadata": {},
   "source": [
    "### Импортируем библиотеки"
   ]
  },
  {
   "cell_type": "code",
   "execution_count": 80,
   "metadata": {},
   "outputs": [],
   "source": [
    "# Импортируем библиотеки\n",
    "# для работы с данными\n",
    "import pandas as pd\n",
    "import numpy as np\n",
    "\n",
    "# для работы с датой\n",
    "import datetime\n",
    "from dateutil import relativedelta\n",
    "\n",
    "# Для работы со статистикой\n",
    "from scipy import stats as st\n",
    "\n",
    "#Предупреждения\n",
    "import warnings\n",
    "warnings.filterwarnings('ignore')\n",
    "\n",
    "# Для Графиков\n",
    "import matplotlib.pyplot as plt\n",
    "import seaborn as sns\n",
    "#увеличим дефолтный размер графиков\n",
    "from pylab import rcParams\n",
    "rcParams['figure.figsize'] = 8, 5"
   ]
  },
  {
   "cell_type": "markdown",
   "metadata": {},
   "source": [
    "## 1. Изучим общую информацию"
   ]
  },
  {
   "cell_type": "markdown",
   "metadata": {},
   "source": [
    "### Перечень входных данных\n",
    "Путь к файлам:\n",
    "+ /datasets/calls.csv\n",
    "+ /datasets/internet.csv\n",
    "+ /datasets/messages.csv\n",
    "+ /datasets/tariffs.csv\n",
    "+ /datasets/users.csv\n",
    "\n",
    "### Описание данных\n",
    "Таблица `users` (информация о пользователях):\n",
    "+ *user_id* — уникальный идентификатор пользователя\n",
    "+ *first_name* — имя пользователя\n",
    "+ *last_name* — фамилия пользователя\n",
    "+ *age* — возраст пользователя (годы)\n",
    "+ *reg_date* — дата подключения тарифа (день, месяц, год)\n",
    "+ *churn_date* — дата прекращения пользования тарифом (если значение пропущено, то тариф ещё действовал на момент выгрузки данных)\n",
    "+ *city* — город проживания пользователя\n",
    "+ *tariff* — название тарифного плана\n",
    "\n",
    "Таблица `calls` (информация о звонках):\n",
    "+ *id* — уникальный номер звонка\n",
    "+ *call_date* — дата звонка\n",
    "+ *duration* — длительность звонка в минутах\n",
    "+ *user_id* — идентификатор пользователя, сделавшего звонок\n",
    "\n",
    "Таблица `messages` (информация о сообщениях):\n",
    "+ *id* — уникальный номер сообщения\n",
    "+ *message_date* — дата сообщения\n",
    "+ *user_id* — идентификатор пользователя, отправившего сообщение\n",
    "\n",
    "Таблица `internet` (информация об интернет-сессиях):\n",
    "+ *id* — уникальный номер сессии\n",
    "+ *mb_used* — объём потраченного за сессию интернет-трафика (в мегабайтах)\n",
    "+ *session_date* — дата интернет-сессии\n",
    "+ *user_id* — идентификатор пользователя\n",
    "\n",
    "Таблица `tariffs` (информация о тарифах):\n",
    "+ *tariff_name* — название тарифа\n",
    "+ *rub_monthly_fee* — ежемесячная абонентская плата в рублях\n",
    "+ *minutes_included* — количество минут разговора в месяц, включённых в абонентскую плату\n",
    "+ *messages_included* — количество сообщений в месяц, включённых в абонентскую плату\n",
    "+ *mb_per_month_included* — объём интернет-трафика, включённого в абонентскую плату (в мегабайтах)\n",
    "+ *rub_per_minute* — стоимость минуты разговора сверх тарифного пакета (например, если в тарифе 100 минут разговора в месяц, то со 101 минуты будет взиматься плата)\n",
    "+ *rub_per_message* — стоимость отправки сообщения сверх тарифного пакета\n",
    "+ *rub_per_gb* — стоимость дополнительного гигабайта интернет-трафика сверх тарифного пакета (1 гигабайт = 1024 мегабайта)"
   ]
  },
  {
   "cell_type": "markdown",
   "metadata": {},
   "source": [
    "### Проверим разделители\n"
   ]
  },
  {
   "cell_type": "code",
   "execution_count": 81,
   "metadata": {},
   "outputs": [
    {
     "name": "stdout",
     "output_type": "stream",
     "text": [
      "user_id,age,churn_date,city,first_name,last_name,reg_date,tariff\r\n",
      "1000,52,,Краснодар,Рафаил,Верещагин,2018-05-25,ultra\r\n",
      "1001,41,,Москва,Иван,Ежов,2018-11-01,smart\r\n",
      "1002,59,,Стерлитамак,Евгений,Абрамович,2018-06-17,smart\r\n",
      "1003,23,,Москва,Белла,Белякова,2018-08-17,ultra\r\n",
      "1004,68,,Новокузнецк,Татьяна,Авдеенко,2018-05-14,ultra\r\n",
      "1005,67,,Набережные Челны,Афанасий,Горлов,2018-01-25,smart\r\n",
      "1006,21,,Ульяновск,Леонид,Ермолаев,2018-02-26,smart\r\n",
      "1007,65,,Москва,Юна,Березина,2018-04-19,smart\r\n",
      "1008,63,,Челябинск,Рустэм,Пономарёв,2018-12-19,smart\r\n"
     ]
    }
   ],
   "source": [
    "!head /datasets/users.csv #Разделитель запятая"
   ]
  },
  {
   "cell_type": "code",
   "execution_count": 82,
   "metadata": {},
   "outputs": [
    {
     "name": "stdout",
     "output_type": "stream",
     "text": [
      "id,call_date,duration,user_id\r\n",
      "1000_0,2018-07-25,0.0,1000\r\n",
      "1000_1,2018-08-17,0.0,1000\r\n",
      "1000_2,2018-06-11,2.85,1000\r\n",
      "1000_3,2018-09-21,13.8,1000\r\n",
      "1000_4,2018-12-15,5.18,1000\r\n",
      "1000_5,2018-11-02,0.0,1000\r\n",
      "1000_6,2018-10-18,0.0,1000\r\n",
      "1000_7,2018-08-22,18.31,1000\r\n",
      "1000_8,2018-09-15,18.44,1000\r\n"
     ]
    }
   ],
   "source": [
    "!head /datasets/calls.csv #Разделитель запятая"
   ]
  },
  {
   "cell_type": "code",
   "execution_count": 83,
   "metadata": {},
   "outputs": [
    {
     "name": "stdout",
     "output_type": "stream",
     "text": [
      "id,message_date,user_id\r\n",
      "1000_0,2018-06-27,1000\r\n",
      "1000_1,2018-10-08,1000\r\n",
      "1000_2,2018-08-04,1000\r\n",
      "1000_3,2018-06-16,1000\r\n",
      "1000_4,2018-12-05,1000\r\n",
      "1000_5,2018-06-20,1000\r\n",
      "1000_6,2018-11-19,1000\r\n",
      "1000_7,2018-10-29,1000\r\n",
      "1000_8,2018-06-25,1000\r\n"
     ]
    }
   ],
   "source": [
    "!head /datasets/messages.csv #Разделитель запятая"
   ]
  },
  {
   "cell_type": "code",
   "execution_count": 84,
   "metadata": {},
   "outputs": [
    {
     "name": "stdout",
     "output_type": "stream",
     "text": [
      ",id,mb_used,session_date,user_id\r\n",
      "0,1000_0,112.95,2018-11-25,1000\r\n",
      "1,1000_1,1052.81,2018-09-07,1000\r\n",
      "2,1000_2,1197.26,2018-06-25,1000\r\n",
      "3,1000_3,550.27,2018-08-22,1000\r\n",
      "4,1000_4,302.56,2018-09-24,1000\r\n",
      "5,1000_5,399.97,2018-10-02,1000\r\n",
      "6,1000_6,540.08,2018-09-07,1000\r\n",
      "7,1000_7,415.7,2018-07-11,1000\r\n",
      "8,1000_8,505.4,2018-10-08,1000\r\n"
     ]
    }
   ],
   "source": [
    "!head /datasets/internet.csv #Разделитель запятая"
   ]
  },
  {
   "cell_type": "code",
   "execution_count": 85,
   "metadata": {},
   "outputs": [
    {
     "name": "stdout",
     "output_type": "stream",
     "text": [
      "messages_included,mb_per_month_included,minutes_included,rub_monthly_fee,rub_per_gb,rub_per_message,rub_per_minute,tariff_name\r\n",
      "50,15360,500,550,200,3,3,smart\r\n",
      "1000,30720,3000,1950,150,1,1,ultra\r\n"
     ]
    }
   ],
   "source": [
    "!head /datasets/tariffs.csv #Разделитель запятая "
   ]
  },
  {
   "cell_type": "markdown",
   "metadata": {},
   "source": [
    "### Проверим основные данные"
   ]
  },
  {
   "cell_type": "code",
   "execution_count": 86,
   "metadata": {},
   "outputs": [],
   "source": [
    "# Загрузим данные и сохраним в соответствующие переменные\n",
    "data_users = pd.read_csv('/datasets/users.csv')\n",
    "data_calls = pd.read_csv('/datasets/calls.csv')\n",
    "data_messages = pd.read_csv('/datasets/messages.csv')\n",
    "data_internet = pd.read_csv('/datasets/internet.csv')\n",
    "data_tariffs = pd.read_csv('/datasets/tariffs.csv')"
   ]
  },
  {
   "cell_type": "code",
   "execution_count": 87,
   "metadata": {},
   "outputs": [],
   "source": [
    "def data_check_information (df):\n",
    "    pd.options.display.float_format = '{:,.2f}'.format   \n",
    "    print('Проверим основную информацию о данных\\n')\n",
    "    print(df.info())\n",
    "    print()\n",
    "    print('Проверим основные метрики\\n', df.describe())\n",
    "    print()\n",
    "    print('Проверим количество пропусков\\n', (\n",
    "        df.isna().sum().sort_values(ascending=False) / len(df)\n",
    "        ).apply(lambda x: '{:0.2%}'.format(x)))\n",
    "    print()\n",
    "    print('Количество дубликатов', df.duplicated().sum())\n",
    "    print()\n",
    "    print('Посмотрим первые 10 строк таблицы')\n",
    "    return df.head(10)"
   ]
  },
  {
   "cell_type": "code",
   "execution_count": 88,
   "metadata": {},
   "outputs": [
    {
     "name": "stdout",
     "output_type": "stream",
     "text": [
      "Проверим основную информацию о данных\n",
      "\n",
      "<class 'pandas.core.frame.DataFrame'>\n",
      "RangeIndex: 500 entries, 0 to 499\n",
      "Data columns (total 8 columns):\n",
      "user_id       500 non-null int64\n",
      "age           500 non-null int64\n",
      "churn_date    38 non-null object\n",
      "city          500 non-null object\n",
      "first_name    500 non-null object\n",
      "last_name     500 non-null object\n",
      "reg_date      500 non-null object\n",
      "tariff        500 non-null object\n",
      "dtypes: int64(2), object(6)\n",
      "memory usage: 31.4+ KB\n",
      "None\n",
      "\n",
      "Проверим основные метрики\n",
      "        user_id    age\n",
      "count   500.00 500.00\n",
      "mean  1,249.50  46.59\n",
      "std     144.48  16.67\n",
      "min   1,000.00  18.00\n",
      "25%   1,124.75  32.00\n",
      "50%   1,249.50  46.00\n",
      "75%   1,374.25  62.00\n",
      "max   1,499.00  75.00\n",
      "\n",
      "Проверим количество пропусков\n",
      " churn_date    92.40%\n",
      "tariff         0.00%\n",
      "reg_date       0.00%\n",
      "last_name      0.00%\n",
      "first_name     0.00%\n",
      "city           0.00%\n",
      "age            0.00%\n",
      "user_id        0.00%\n",
      "dtype: object\n",
      "\n",
      "Количество дубликатов 0\n",
      "\n",
      "Посмотрим первые 10 строк таблицы\n"
     ]
    },
    {
     "data": {
      "text/html": [
       "<div>\n",
       "<style scoped>\n",
       "    .dataframe tbody tr th:only-of-type {\n",
       "        vertical-align: middle;\n",
       "    }\n",
       "\n",
       "    .dataframe tbody tr th {\n",
       "        vertical-align: top;\n",
       "    }\n",
       "\n",
       "    .dataframe thead th {\n",
       "        text-align: right;\n",
       "    }\n",
       "</style>\n",
       "<table border=\"1\" class=\"dataframe\">\n",
       "  <thead>\n",
       "    <tr style=\"text-align: right;\">\n",
       "      <th></th>\n",
       "      <th>user_id</th>\n",
       "      <th>age</th>\n",
       "      <th>churn_date</th>\n",
       "      <th>city</th>\n",
       "      <th>first_name</th>\n",
       "      <th>last_name</th>\n",
       "      <th>reg_date</th>\n",
       "      <th>tariff</th>\n",
       "    </tr>\n",
       "  </thead>\n",
       "  <tbody>\n",
       "    <tr>\n",
       "      <td>0</td>\n",
       "      <td>1000</td>\n",
       "      <td>52</td>\n",
       "      <td>NaN</td>\n",
       "      <td>Краснодар</td>\n",
       "      <td>Рафаил</td>\n",
       "      <td>Верещагин</td>\n",
       "      <td>2018-05-25</td>\n",
       "      <td>ultra</td>\n",
       "    </tr>\n",
       "    <tr>\n",
       "      <td>1</td>\n",
       "      <td>1001</td>\n",
       "      <td>41</td>\n",
       "      <td>NaN</td>\n",
       "      <td>Москва</td>\n",
       "      <td>Иван</td>\n",
       "      <td>Ежов</td>\n",
       "      <td>2018-11-01</td>\n",
       "      <td>smart</td>\n",
       "    </tr>\n",
       "    <tr>\n",
       "      <td>2</td>\n",
       "      <td>1002</td>\n",
       "      <td>59</td>\n",
       "      <td>NaN</td>\n",
       "      <td>Стерлитамак</td>\n",
       "      <td>Евгений</td>\n",
       "      <td>Абрамович</td>\n",
       "      <td>2018-06-17</td>\n",
       "      <td>smart</td>\n",
       "    </tr>\n",
       "    <tr>\n",
       "      <td>3</td>\n",
       "      <td>1003</td>\n",
       "      <td>23</td>\n",
       "      <td>NaN</td>\n",
       "      <td>Москва</td>\n",
       "      <td>Белла</td>\n",
       "      <td>Белякова</td>\n",
       "      <td>2018-08-17</td>\n",
       "      <td>ultra</td>\n",
       "    </tr>\n",
       "    <tr>\n",
       "      <td>4</td>\n",
       "      <td>1004</td>\n",
       "      <td>68</td>\n",
       "      <td>NaN</td>\n",
       "      <td>Новокузнецк</td>\n",
       "      <td>Татьяна</td>\n",
       "      <td>Авдеенко</td>\n",
       "      <td>2018-05-14</td>\n",
       "      <td>ultra</td>\n",
       "    </tr>\n",
       "    <tr>\n",
       "      <td>5</td>\n",
       "      <td>1005</td>\n",
       "      <td>67</td>\n",
       "      <td>NaN</td>\n",
       "      <td>Набережные Челны</td>\n",
       "      <td>Афанасий</td>\n",
       "      <td>Горлов</td>\n",
       "      <td>2018-01-25</td>\n",
       "      <td>smart</td>\n",
       "    </tr>\n",
       "    <tr>\n",
       "      <td>6</td>\n",
       "      <td>1006</td>\n",
       "      <td>21</td>\n",
       "      <td>NaN</td>\n",
       "      <td>Ульяновск</td>\n",
       "      <td>Леонид</td>\n",
       "      <td>Ермолаев</td>\n",
       "      <td>2018-02-26</td>\n",
       "      <td>smart</td>\n",
       "    </tr>\n",
       "    <tr>\n",
       "      <td>7</td>\n",
       "      <td>1007</td>\n",
       "      <td>65</td>\n",
       "      <td>NaN</td>\n",
       "      <td>Москва</td>\n",
       "      <td>Юна</td>\n",
       "      <td>Березина</td>\n",
       "      <td>2018-04-19</td>\n",
       "      <td>smart</td>\n",
       "    </tr>\n",
       "    <tr>\n",
       "      <td>8</td>\n",
       "      <td>1008</td>\n",
       "      <td>63</td>\n",
       "      <td>NaN</td>\n",
       "      <td>Челябинск</td>\n",
       "      <td>Рустэм</td>\n",
       "      <td>Пономарёв</td>\n",
       "      <td>2018-12-19</td>\n",
       "      <td>smart</td>\n",
       "    </tr>\n",
       "    <tr>\n",
       "      <td>9</td>\n",
       "      <td>1009</td>\n",
       "      <td>24</td>\n",
       "      <td>NaN</td>\n",
       "      <td>Пермь</td>\n",
       "      <td>Василиса</td>\n",
       "      <td>Блинова</td>\n",
       "      <td>2018-03-22</td>\n",
       "      <td>smart</td>\n",
       "    </tr>\n",
       "  </tbody>\n",
       "</table>\n",
       "</div>"
      ],
      "text/plain": [
       "   user_id  age churn_date              city first_name  last_name  \\\n",
       "0     1000   52        NaN         Краснодар     Рафаил  Верещагин   \n",
       "1     1001   41        NaN            Москва       Иван       Ежов   \n",
       "2     1002   59        NaN       Стерлитамак    Евгений  Абрамович   \n",
       "3     1003   23        NaN            Москва      Белла   Белякова   \n",
       "4     1004   68        NaN       Новокузнецк    Татьяна   Авдеенко   \n",
       "5     1005   67        NaN  Набережные Челны   Афанасий     Горлов   \n",
       "6     1006   21        NaN         Ульяновск     Леонид   Ермолаев   \n",
       "7     1007   65        NaN            Москва        Юна   Березина   \n",
       "8     1008   63        NaN         Челябинск     Рустэм  Пономарёв   \n",
       "9     1009   24        NaN             Пермь   Василиса    Блинова   \n",
       "\n",
       "     reg_date tariff  \n",
       "0  2018-05-25  ultra  \n",
       "1  2018-11-01  smart  \n",
       "2  2018-06-17  smart  \n",
       "3  2018-08-17  ultra  \n",
       "4  2018-05-14  ultra  \n",
       "5  2018-01-25  smart  \n",
       "6  2018-02-26  smart  \n",
       "7  2018-04-19  smart  \n",
       "8  2018-12-19  smart  \n",
       "9  2018-03-22  smart  "
      ]
     },
     "execution_count": 88,
     "metadata": {},
     "output_type": "execute_result"
    }
   ],
   "source": [
    "data_check_information(data_users)"
   ]
  },
  {
   "cell_type": "code",
   "execution_count": 89,
   "metadata": {},
   "outputs": [
    {
     "data": {
      "text/plain": [
       "array(['ultra', 'smart'], dtype=object)"
      ]
     },
     "execution_count": 89,
     "metadata": {},
     "output_type": "execute_result"
    }
   ],
   "source": [
    "data_users.tariff.unique()"
   ]
  },
  {
   "cell_type": "markdown",
   "metadata": {},
   "source": [
    "Данные вполне адекватные, пропуски в столбе `churn_date`, говорит о том, что пользователь еще пользуется услугами компании"
   ]
  },
  {
   "cell_type": "code",
   "execution_count": 90,
   "metadata": {},
   "outputs": [
    {
     "name": "stdout",
     "output_type": "stream",
     "text": [
      "Проверим основную информацию о данных\n",
      "\n",
      "<class 'pandas.core.frame.DataFrame'>\n",
      "RangeIndex: 202607 entries, 0 to 202606\n",
      "Data columns (total 4 columns):\n",
      "id           202607 non-null object\n",
      "call_date    202607 non-null object\n",
      "duration     202607 non-null float64\n",
      "user_id      202607 non-null int64\n",
      "dtypes: float64(1), int64(1), object(2)\n",
      "memory usage: 6.2+ MB\n",
      "None\n",
      "\n",
      "Проверим основные метрики\n",
      "         duration    user_id\n",
      "count 202,607.00 202,607.00\n",
      "mean        6.76   1,253.94\n",
      "std         5.84     144.72\n",
      "min         0.00   1,000.00\n",
      "25%         1.30   1,126.00\n",
      "50%         6.00   1,260.00\n",
      "75%        10.70   1,379.00\n",
      "max        38.00   1,499.00\n",
      "\n",
      "Проверим количество пропусков\n",
      " user_id      0.00%\n",
      "duration     0.00%\n",
      "call_date    0.00%\n",
      "id           0.00%\n",
      "dtype: object\n",
      "\n",
      "Количество дубликатов 0\n",
      "\n",
      "Посмотрим первые 10 строк таблицы\n"
     ]
    },
    {
     "data": {
      "text/html": [
       "<div>\n",
       "<style scoped>\n",
       "    .dataframe tbody tr th:only-of-type {\n",
       "        vertical-align: middle;\n",
       "    }\n",
       "\n",
       "    .dataframe tbody tr th {\n",
       "        vertical-align: top;\n",
       "    }\n",
       "\n",
       "    .dataframe thead th {\n",
       "        text-align: right;\n",
       "    }\n",
       "</style>\n",
       "<table border=\"1\" class=\"dataframe\">\n",
       "  <thead>\n",
       "    <tr style=\"text-align: right;\">\n",
       "      <th></th>\n",
       "      <th>id</th>\n",
       "      <th>call_date</th>\n",
       "      <th>duration</th>\n",
       "      <th>user_id</th>\n",
       "    </tr>\n",
       "  </thead>\n",
       "  <tbody>\n",
       "    <tr>\n",
       "      <td>0</td>\n",
       "      <td>1000_0</td>\n",
       "      <td>2018-07-25</td>\n",
       "      <td>0.00</td>\n",
       "      <td>1000</td>\n",
       "    </tr>\n",
       "    <tr>\n",
       "      <td>1</td>\n",
       "      <td>1000_1</td>\n",
       "      <td>2018-08-17</td>\n",
       "      <td>0.00</td>\n",
       "      <td>1000</td>\n",
       "    </tr>\n",
       "    <tr>\n",
       "      <td>2</td>\n",
       "      <td>1000_2</td>\n",
       "      <td>2018-06-11</td>\n",
       "      <td>2.85</td>\n",
       "      <td>1000</td>\n",
       "    </tr>\n",
       "    <tr>\n",
       "      <td>3</td>\n",
       "      <td>1000_3</td>\n",
       "      <td>2018-09-21</td>\n",
       "      <td>13.80</td>\n",
       "      <td>1000</td>\n",
       "    </tr>\n",
       "    <tr>\n",
       "      <td>4</td>\n",
       "      <td>1000_4</td>\n",
       "      <td>2018-12-15</td>\n",
       "      <td>5.18</td>\n",
       "      <td>1000</td>\n",
       "    </tr>\n",
       "    <tr>\n",
       "      <td>5</td>\n",
       "      <td>1000_5</td>\n",
       "      <td>2018-11-02</td>\n",
       "      <td>0.00</td>\n",
       "      <td>1000</td>\n",
       "    </tr>\n",
       "    <tr>\n",
       "      <td>6</td>\n",
       "      <td>1000_6</td>\n",
       "      <td>2018-10-18</td>\n",
       "      <td>0.00</td>\n",
       "      <td>1000</td>\n",
       "    </tr>\n",
       "    <tr>\n",
       "      <td>7</td>\n",
       "      <td>1000_7</td>\n",
       "      <td>2018-08-22</td>\n",
       "      <td>18.31</td>\n",
       "      <td>1000</td>\n",
       "    </tr>\n",
       "    <tr>\n",
       "      <td>8</td>\n",
       "      <td>1000_8</td>\n",
       "      <td>2018-09-15</td>\n",
       "      <td>18.44</td>\n",
       "      <td>1000</td>\n",
       "    </tr>\n",
       "    <tr>\n",
       "      <td>9</td>\n",
       "      <td>1000_9</td>\n",
       "      <td>2018-08-15</td>\n",
       "      <td>0.00</td>\n",
       "      <td>1000</td>\n",
       "    </tr>\n",
       "  </tbody>\n",
       "</table>\n",
       "</div>"
      ],
      "text/plain": [
       "       id   call_date  duration  user_id\n",
       "0  1000_0  2018-07-25      0.00     1000\n",
       "1  1000_1  2018-08-17      0.00     1000\n",
       "2  1000_2  2018-06-11      2.85     1000\n",
       "3  1000_3  2018-09-21     13.80     1000\n",
       "4  1000_4  2018-12-15      5.18     1000\n",
       "5  1000_5  2018-11-02      0.00     1000\n",
       "6  1000_6  2018-10-18      0.00     1000\n",
       "7  1000_7  2018-08-22     18.31     1000\n",
       "8  1000_8  2018-09-15     18.44     1000\n",
       "9  1000_9  2018-08-15      0.00     1000"
      ]
     },
     "execution_count": 90,
     "metadata": {},
     "output_type": "execute_result"
    }
   ],
   "source": [
    "data_check_information(data_calls)"
   ]
  },
  {
   "cell_type": "markdown",
   "metadata": {},
   "source": [
    "Формат записи уникального номера звонка имеет тип `object` для работы с ним, если потребуется необходимо придумать как перевести в int"
   ]
  },
  {
   "cell_type": "code",
   "execution_count": 91,
   "metadata": {},
   "outputs": [
    {
     "name": "stdout",
     "output_type": "stream",
     "text": [
      "Проверим основную информацию о данных\n",
      "\n",
      "<class 'pandas.core.frame.DataFrame'>\n",
      "RangeIndex: 123036 entries, 0 to 123035\n",
      "Data columns (total 3 columns):\n",
      "id              123036 non-null object\n",
      "message_date    123036 non-null object\n",
      "user_id         123036 non-null int64\n",
      "dtypes: int64(1), object(2)\n",
      "memory usage: 2.8+ MB\n",
      "None\n",
      "\n",
      "Проверим основные метрики\n",
      "          user_id\n",
      "count 123,036.00\n",
      "mean    1,256.99\n",
      "std       143.52\n",
      "min     1,000.00\n",
      "25%     1,134.00\n",
      "50%     1,271.00\n",
      "75%     1,381.00\n",
      "max     1,499.00\n",
      "\n",
      "Проверим количество пропусков\n",
      " user_id         0.00%\n",
      "message_date    0.00%\n",
      "id              0.00%\n",
      "dtype: object\n",
      "\n",
      "Количество дубликатов 0\n",
      "\n",
      "Посмотрим первые 10 строк таблицы\n"
     ]
    },
    {
     "data": {
      "text/html": [
       "<div>\n",
       "<style scoped>\n",
       "    .dataframe tbody tr th:only-of-type {\n",
       "        vertical-align: middle;\n",
       "    }\n",
       "\n",
       "    .dataframe tbody tr th {\n",
       "        vertical-align: top;\n",
       "    }\n",
       "\n",
       "    .dataframe thead th {\n",
       "        text-align: right;\n",
       "    }\n",
       "</style>\n",
       "<table border=\"1\" class=\"dataframe\">\n",
       "  <thead>\n",
       "    <tr style=\"text-align: right;\">\n",
       "      <th></th>\n",
       "      <th>id</th>\n",
       "      <th>message_date</th>\n",
       "      <th>user_id</th>\n",
       "    </tr>\n",
       "  </thead>\n",
       "  <tbody>\n",
       "    <tr>\n",
       "      <td>0</td>\n",
       "      <td>1000_0</td>\n",
       "      <td>2018-06-27</td>\n",
       "      <td>1000</td>\n",
       "    </tr>\n",
       "    <tr>\n",
       "      <td>1</td>\n",
       "      <td>1000_1</td>\n",
       "      <td>2018-10-08</td>\n",
       "      <td>1000</td>\n",
       "    </tr>\n",
       "    <tr>\n",
       "      <td>2</td>\n",
       "      <td>1000_2</td>\n",
       "      <td>2018-08-04</td>\n",
       "      <td>1000</td>\n",
       "    </tr>\n",
       "    <tr>\n",
       "      <td>3</td>\n",
       "      <td>1000_3</td>\n",
       "      <td>2018-06-16</td>\n",
       "      <td>1000</td>\n",
       "    </tr>\n",
       "    <tr>\n",
       "      <td>4</td>\n",
       "      <td>1000_4</td>\n",
       "      <td>2018-12-05</td>\n",
       "      <td>1000</td>\n",
       "    </tr>\n",
       "    <tr>\n",
       "      <td>5</td>\n",
       "      <td>1000_5</td>\n",
       "      <td>2018-06-20</td>\n",
       "      <td>1000</td>\n",
       "    </tr>\n",
       "    <tr>\n",
       "      <td>6</td>\n",
       "      <td>1000_6</td>\n",
       "      <td>2018-11-19</td>\n",
       "      <td>1000</td>\n",
       "    </tr>\n",
       "    <tr>\n",
       "      <td>7</td>\n",
       "      <td>1000_7</td>\n",
       "      <td>2018-10-29</td>\n",
       "      <td>1000</td>\n",
       "    </tr>\n",
       "    <tr>\n",
       "      <td>8</td>\n",
       "      <td>1000_8</td>\n",
       "      <td>2018-06-25</td>\n",
       "      <td>1000</td>\n",
       "    </tr>\n",
       "    <tr>\n",
       "      <td>9</td>\n",
       "      <td>1000_9</td>\n",
       "      <td>2018-12-18</td>\n",
       "      <td>1000</td>\n",
       "    </tr>\n",
       "  </tbody>\n",
       "</table>\n",
       "</div>"
      ],
      "text/plain": [
       "       id message_date  user_id\n",
       "0  1000_0   2018-06-27     1000\n",
       "1  1000_1   2018-10-08     1000\n",
       "2  1000_2   2018-08-04     1000\n",
       "3  1000_3   2018-06-16     1000\n",
       "4  1000_4   2018-12-05     1000\n",
       "5  1000_5   2018-06-20     1000\n",
       "6  1000_6   2018-11-19     1000\n",
       "7  1000_7   2018-10-29     1000\n",
       "8  1000_8   2018-06-25     1000\n",
       "9  1000_9   2018-12-18     1000"
      ]
     },
     "execution_count": 91,
     "metadata": {},
     "output_type": "execute_result"
    }
   ],
   "source": [
    "data_check_information(data_messages)"
   ]
  },
  {
   "cell_type": "markdown",
   "metadata": {},
   "source": [
    "Формат записи уникального номера сообщения имеет тип `object` для работы с ним, если потребуется необходимо придумать как перевести в int"
   ]
  },
  {
   "cell_type": "code",
   "execution_count": 92,
   "metadata": {},
   "outputs": [
    {
     "name": "stdout",
     "output_type": "stream",
     "text": [
      "Проверим основную информацию о данных\n",
      "\n",
      "<class 'pandas.core.frame.DataFrame'>\n",
      "RangeIndex: 149396 entries, 0 to 149395\n",
      "Data columns (total 5 columns):\n",
      "Unnamed: 0      149396 non-null int64\n",
      "id              149396 non-null object\n",
      "mb_used         149396 non-null float64\n",
      "session_date    149396 non-null object\n",
      "user_id         149396 non-null int64\n",
      "dtypes: float64(1), int64(2), object(2)\n",
      "memory usage: 5.7+ MB\n",
      "None\n",
      "\n",
      "Проверим основные метрики\n",
      "        Unnamed: 0    mb_used    user_id\n",
      "count  149,396.00 149,396.00 149,396.00\n",
      "mean    74,697.50     370.19   1,252.10\n",
      "std     43,127.05     278.30     144.05\n",
      "min          0.00       0.00   1,000.00\n",
      "25%     37,348.75     138.19   1,130.00\n",
      "50%     74,697.50     348.01   1,251.00\n",
      "75%    112,046.25     559.55   1,380.00\n",
      "max    149,395.00   1,724.83   1,499.00\n",
      "\n",
      "Проверим количество пропусков\n",
      " user_id         0.00%\n",
      "session_date    0.00%\n",
      "mb_used         0.00%\n",
      "id              0.00%\n",
      "Unnamed: 0      0.00%\n",
      "dtype: object\n",
      "\n",
      "Количество дубликатов 0\n",
      "\n",
      "Посмотрим первые 10 строк таблицы\n"
     ]
    },
    {
     "data": {
      "text/html": [
       "<div>\n",
       "<style scoped>\n",
       "    .dataframe tbody tr th:only-of-type {\n",
       "        vertical-align: middle;\n",
       "    }\n",
       "\n",
       "    .dataframe tbody tr th {\n",
       "        vertical-align: top;\n",
       "    }\n",
       "\n",
       "    .dataframe thead th {\n",
       "        text-align: right;\n",
       "    }\n",
       "</style>\n",
       "<table border=\"1\" class=\"dataframe\">\n",
       "  <thead>\n",
       "    <tr style=\"text-align: right;\">\n",
       "      <th></th>\n",
       "      <th>Unnamed: 0</th>\n",
       "      <th>id</th>\n",
       "      <th>mb_used</th>\n",
       "      <th>session_date</th>\n",
       "      <th>user_id</th>\n",
       "    </tr>\n",
       "  </thead>\n",
       "  <tbody>\n",
       "    <tr>\n",
       "      <td>0</td>\n",
       "      <td>0</td>\n",
       "      <td>1000_0</td>\n",
       "      <td>112.95</td>\n",
       "      <td>2018-11-25</td>\n",
       "      <td>1000</td>\n",
       "    </tr>\n",
       "    <tr>\n",
       "      <td>1</td>\n",
       "      <td>1</td>\n",
       "      <td>1000_1</td>\n",
       "      <td>1,052.81</td>\n",
       "      <td>2018-09-07</td>\n",
       "      <td>1000</td>\n",
       "    </tr>\n",
       "    <tr>\n",
       "      <td>2</td>\n",
       "      <td>2</td>\n",
       "      <td>1000_2</td>\n",
       "      <td>1,197.26</td>\n",
       "      <td>2018-06-25</td>\n",
       "      <td>1000</td>\n",
       "    </tr>\n",
       "    <tr>\n",
       "      <td>3</td>\n",
       "      <td>3</td>\n",
       "      <td>1000_3</td>\n",
       "      <td>550.27</td>\n",
       "      <td>2018-08-22</td>\n",
       "      <td>1000</td>\n",
       "    </tr>\n",
       "    <tr>\n",
       "      <td>4</td>\n",
       "      <td>4</td>\n",
       "      <td>1000_4</td>\n",
       "      <td>302.56</td>\n",
       "      <td>2018-09-24</td>\n",
       "      <td>1000</td>\n",
       "    </tr>\n",
       "    <tr>\n",
       "      <td>5</td>\n",
       "      <td>5</td>\n",
       "      <td>1000_5</td>\n",
       "      <td>399.97</td>\n",
       "      <td>2018-10-02</td>\n",
       "      <td>1000</td>\n",
       "    </tr>\n",
       "    <tr>\n",
       "      <td>6</td>\n",
       "      <td>6</td>\n",
       "      <td>1000_6</td>\n",
       "      <td>540.08</td>\n",
       "      <td>2018-09-07</td>\n",
       "      <td>1000</td>\n",
       "    </tr>\n",
       "    <tr>\n",
       "      <td>7</td>\n",
       "      <td>7</td>\n",
       "      <td>1000_7</td>\n",
       "      <td>415.70</td>\n",
       "      <td>2018-07-11</td>\n",
       "      <td>1000</td>\n",
       "    </tr>\n",
       "    <tr>\n",
       "      <td>8</td>\n",
       "      <td>8</td>\n",
       "      <td>1000_8</td>\n",
       "      <td>505.40</td>\n",
       "      <td>2018-10-08</td>\n",
       "      <td>1000</td>\n",
       "    </tr>\n",
       "    <tr>\n",
       "      <td>9</td>\n",
       "      <td>9</td>\n",
       "      <td>1000_9</td>\n",
       "      <td>345.54</td>\n",
       "      <td>2018-09-03</td>\n",
       "      <td>1000</td>\n",
       "    </tr>\n",
       "  </tbody>\n",
       "</table>\n",
       "</div>"
      ],
      "text/plain": [
       "   Unnamed: 0      id  mb_used session_date  user_id\n",
       "0           0  1000_0   112.95   2018-11-25     1000\n",
       "1           1  1000_1 1,052.81   2018-09-07     1000\n",
       "2           2  1000_2 1,197.26   2018-06-25     1000\n",
       "3           3  1000_3   550.27   2018-08-22     1000\n",
       "4           4  1000_4   302.56   2018-09-24     1000\n",
       "5           5  1000_5   399.97   2018-10-02     1000\n",
       "6           6  1000_6   540.08   2018-09-07     1000\n",
       "7           7  1000_7   415.70   2018-07-11     1000\n",
       "8           8  1000_8   505.40   2018-10-08     1000\n",
       "9           9  1000_9   345.54   2018-09-03     1000"
      ]
     },
     "execution_count": 92,
     "metadata": {},
     "output_type": "execute_result"
    }
   ],
   "source": [
    "data_check_information(data_internet)"
   ]
  },
  {
   "cell_type": "markdown",
   "metadata": {},
   "source": [
    "Колонка `Unnamed: 0` повторяет индекс и не имеет описания к заданию, удалим ее"
   ]
  },
  {
   "cell_type": "code",
   "execution_count": 93,
   "metadata": {},
   "outputs": [],
   "source": [
    "data_internet = data_internet[['id', 'mb_used', 'session_date', 'user_id']]"
   ]
  },
  {
   "cell_type": "code",
   "execution_count": 94,
   "metadata": {},
   "outputs": [
    {
     "name": "stdout",
     "output_type": "stream",
     "text": [
      "Проверим основную информацию о данных\n",
      "\n",
      "<class 'pandas.core.frame.DataFrame'>\n",
      "RangeIndex: 2 entries, 0 to 1\n",
      "Data columns (total 8 columns):\n",
      "messages_included        2 non-null int64\n",
      "mb_per_month_included    2 non-null int64\n",
      "minutes_included         2 non-null int64\n",
      "rub_monthly_fee          2 non-null int64\n",
      "rub_per_gb               2 non-null int64\n",
      "rub_per_message          2 non-null int64\n",
      "rub_per_minute           2 non-null int64\n",
      "tariff_name              2 non-null object\n",
      "dtypes: int64(7), object(1)\n",
      "memory usage: 256.0+ bytes\n",
      "None\n",
      "\n",
      "Проверим основные метрики\n",
      "        messages_included  mb_per_month_included  minutes_included  \\\n",
      "count               2.00                   2.00              2.00   \n",
      "mean              525.00              23,040.00          1,750.00   \n",
      "std               671.75              10,861.16          1,767.77   \n",
      "min                50.00              15,360.00            500.00   \n",
      "25%               287.50              19,200.00          1,125.00   \n",
      "50%               525.00              23,040.00          1,750.00   \n",
      "75%               762.50              26,880.00          2,375.00   \n",
      "max             1,000.00              30,720.00          3,000.00   \n",
      "\n",
      "       rub_monthly_fee  rub_per_gb  rub_per_message  rub_per_minute  \n",
      "count             2.00        2.00             2.00            2.00  \n",
      "mean          1,250.00      175.00             2.00            2.00  \n",
      "std             989.95       35.36             1.41            1.41  \n",
      "min             550.00      150.00             1.00            1.00  \n",
      "25%             900.00      162.50             1.50            1.50  \n",
      "50%           1,250.00      175.00             2.00            2.00  \n",
      "75%           1,600.00      187.50             2.50            2.50  \n",
      "max           1,950.00      200.00             3.00            3.00  \n",
      "\n",
      "Проверим количество пропусков\n",
      " tariff_name              0.00%\n",
      "rub_per_minute           0.00%\n",
      "rub_per_message          0.00%\n",
      "rub_per_gb               0.00%\n",
      "rub_monthly_fee          0.00%\n",
      "minutes_included         0.00%\n",
      "mb_per_month_included    0.00%\n",
      "messages_included        0.00%\n",
      "dtype: object\n",
      "\n",
      "Количество дубликатов 0\n",
      "\n",
      "Посмотрим первые 10 строк таблицы\n"
     ]
    },
    {
     "data": {
      "text/html": [
       "<div>\n",
       "<style scoped>\n",
       "    .dataframe tbody tr th:only-of-type {\n",
       "        vertical-align: middle;\n",
       "    }\n",
       "\n",
       "    .dataframe tbody tr th {\n",
       "        vertical-align: top;\n",
       "    }\n",
       "\n",
       "    .dataframe thead th {\n",
       "        text-align: right;\n",
       "    }\n",
       "</style>\n",
       "<table border=\"1\" class=\"dataframe\">\n",
       "  <thead>\n",
       "    <tr style=\"text-align: right;\">\n",
       "      <th></th>\n",
       "      <th>messages_included</th>\n",
       "      <th>mb_per_month_included</th>\n",
       "      <th>minutes_included</th>\n",
       "      <th>rub_monthly_fee</th>\n",
       "      <th>rub_per_gb</th>\n",
       "      <th>rub_per_message</th>\n",
       "      <th>rub_per_minute</th>\n",
       "      <th>tariff_name</th>\n",
       "    </tr>\n",
       "  </thead>\n",
       "  <tbody>\n",
       "    <tr>\n",
       "      <td>0</td>\n",
       "      <td>50</td>\n",
       "      <td>15360</td>\n",
       "      <td>500</td>\n",
       "      <td>550</td>\n",
       "      <td>200</td>\n",
       "      <td>3</td>\n",
       "      <td>3</td>\n",
       "      <td>smart</td>\n",
       "    </tr>\n",
       "    <tr>\n",
       "      <td>1</td>\n",
       "      <td>1000</td>\n",
       "      <td>30720</td>\n",
       "      <td>3000</td>\n",
       "      <td>1950</td>\n",
       "      <td>150</td>\n",
       "      <td>1</td>\n",
       "      <td>1</td>\n",
       "      <td>ultra</td>\n",
       "    </tr>\n",
       "  </tbody>\n",
       "</table>\n",
       "</div>"
      ],
      "text/plain": [
       "   messages_included  mb_per_month_included  minutes_included  \\\n",
       "0                 50                  15360               500   \n",
       "1               1000                  30720              3000   \n",
       "\n",
       "   rub_monthly_fee  rub_per_gb  rub_per_message  rub_per_minute tariff_name  \n",
       "0              550         200                3               3       smart  \n",
       "1             1950         150                1               1       ultra  "
      ]
     },
     "execution_count": 94,
     "metadata": {},
     "output_type": "execute_result"
    }
   ],
   "source": [
    "data_check_information(data_tariffs)"
   ]
  },
  {
   "cell_type": "markdown",
   "metadata": {},
   "source": [
    "### Вывод\n",
    "Данные выглядят вполне подготовленными, дубликатов не обнаружено, необходимо произвести следующие подготовительные работы:\n",
    "+ Привести к соответствующему виду дату и время\n",
    "+ т.к. округление идет к верхней границе, то неотходимо длительность звонков и мегабайтов траффка округлить при помощи `np.ceil()` и преобразовать формат"
   ]
  },
  {
   "cell_type": "markdown",
   "metadata": {},
   "source": [
    "## 2. Подготовка данных"
   ]
  },
  {
   "cell_type": "markdown",
   "metadata": {},
   "source": [
    "### 1. Изменение типов данных"
   ]
  },
  {
   "cell_type": "code",
   "execution_count": 95,
   "metadata": {},
   "outputs": [],
   "source": [
    "# Приведем данные дат в соответствующему типу\n",
    "data_users['reg_date'] = pd.to_datetime(data_users['reg_date'], format='%Y-%m-%d')\n",
    "data_users['churn_date'] = pd.to_datetime(data_users['churn_date'], format='%Y-%m-%d')\n",
    "data_calls['call_date'] = pd.to_datetime(data_calls['call_date'], format='%Y-%m-%d')\n",
    "data_messages['message_date'] = pd.to_datetime(data_messages['message_date'], format='%Y-%m-%d')\n",
    "data_internet['session_date'] = pd.to_datetime(data_internet['session_date'], format='%Y-%m-%d')"
   ]
  },
  {
   "cell_type": "markdown",
   "metadata": {},
   "source": [
    "### 2. Поиск ошибок\n",
    "#### 2.1. Проверим дату первой активности пользователей"
   ]
  },
  {
   "cell_type": "code",
   "execution_count": 96,
   "metadata": {},
   "outputs": [],
   "source": [
    "# Сгруппируем по пользователю и найдем первую дату его активности \n",
    "first_call = data_calls.pivot_table(index='user_id', values='call_date', aggfunc='min').reset_index()\n",
    "first_message = data_messages.pivot_table(index='user_id', values='message_date', aggfunc='min').reset_index()\n",
    "first_session = data_internet.pivot_table(index='user_id', values='session_date', aggfunc='min').reset_index()"
   ]
  },
  {
   "cell_type": "code",
   "execution_count": 97,
   "metadata": {},
   "outputs": [],
   "source": [
    "data_first_activity = data_users[['user_id', 'reg_date']]\\\n",
    "                            .merge(first_call, how='left')\\\n",
    "                            .merge(first_message, how='left')\\\n",
    "                            .merge(first_session, how='left')"
   ]
  },
  {
   "cell_type": "code",
   "execution_count": 98,
   "metadata": {},
   "outputs": [
    {
     "data": {
      "text/plain": [
       "message_date    14.80%\n",
       "call_date        1.60%\n",
       "session_date     0.60%\n",
       "reg_date         0.00%\n",
       "user_id          0.00%\n",
       "dtype: object"
      ]
     },
     "execution_count": 98,
     "metadata": {},
     "output_type": "execute_result"
    }
   ],
   "source": [
    "(data_first_activity.isna().sum().sort_values(ascending=False) / len(data_first_activity)\n",
    "        ).apply(lambda x: '{:0.2%}'.format(x))"
   ]
  },
  {
   "cell_type": "markdown",
   "metadata": {},
   "source": [
    "Почти 15% пользователей не пользовались смс, 1,6% никогда не звонили, 0,6% не используют интернет"
   ]
  },
  {
   "cell_type": "code",
   "execution_count": 99,
   "metadata": {},
   "outputs": [
    {
     "data": {
      "text/html": [
       "<div>\n",
       "<style scoped>\n",
       "    .dataframe tbody tr th:only-of-type {\n",
       "        vertical-align: middle;\n",
       "    }\n",
       "\n",
       "    .dataframe tbody tr th {\n",
       "        vertical-align: top;\n",
       "    }\n",
       "\n",
       "    .dataframe thead th {\n",
       "        text-align: right;\n",
       "    }\n",
       "</style>\n",
       "<table border=\"1\" class=\"dataframe\">\n",
       "  <thead>\n",
       "    <tr style=\"text-align: right;\">\n",
       "      <th></th>\n",
       "      <th>user_id</th>\n",
       "      <th>reg_date</th>\n",
       "      <th>call_date</th>\n",
       "      <th>message_date</th>\n",
       "      <th>session_date</th>\n",
       "    </tr>\n",
       "  </thead>\n",
       "  <tbody>\n",
       "    <tr>\n",
       "      <td>128</td>\n",
       "      <td>1128</td>\n",
       "      <td>2018-12-15</td>\n",
       "      <td>NaT</td>\n",
       "      <td>NaT</td>\n",
       "      <td>NaT</td>\n",
       "    </tr>\n",
       "    <tr>\n",
       "      <td>273</td>\n",
       "      <td>1273</td>\n",
       "      <td>2018-05-15</td>\n",
       "      <td>2018-05-15</td>\n",
       "      <td>2018-05-16</td>\n",
       "      <td>NaT</td>\n",
       "    </tr>\n",
       "    <tr>\n",
       "      <td>371</td>\n",
       "      <td>1371</td>\n",
       "      <td>2018-12-25</td>\n",
       "      <td>NaT</td>\n",
       "      <td>NaT</td>\n",
       "      <td>NaT</td>\n",
       "    </tr>\n",
       "  </tbody>\n",
       "</table>\n",
       "</div>"
      ],
      "text/plain": [
       "     user_id   reg_date  call_date message_date session_date\n",
       "128     1128 2018-12-15        NaT          NaT          NaT\n",
       "273     1273 2018-05-15 2018-05-15   2018-05-16          NaT\n",
       "371     1371 2018-12-25        NaT          NaT          NaT"
      ]
     },
     "execution_count": 99,
     "metadata": {},
     "output_type": "execute_result"
    }
   ],
   "source": [
    "data_first_activity.loc[data_first_activity['session_date'].isna()]"
   ]
  },
  {
   "cell_type": "markdown",
   "metadata": {},
   "source": [
    "В данных обнаружились пользователи, которые не совершали ни каких действий после регистрации"
   ]
  },
  {
   "cell_type": "code",
   "execution_count": 100,
   "metadata": {},
   "outputs": [],
   "source": [
    "data_first_activity['first_action'] = data_first_activity['reg_date']\n",
    "#Т.к. при наличии NaT метод cummin() работает не корректно\n",
    "#то создадим все условные запросы исключающие NaT\n",
    "query_wo_na = (\n",
    "    (data_first_activity['call_date'].notna())\n",
    "    & (data_first_activity['message_date'].notna())\n",
    "    & (data_first_activity['session_date'].notna())\n",
    ")\n",
    "    \n",
    "query_call_na = (\n",
    "    (data_first_activity['call_date'].isna())\n",
    "    & (data_first_activity['message_date'].notna())\n",
    "    & (data_first_activity['session_date'].notna())\n",
    ")\n",
    "\n",
    "query_message_na = (\n",
    "    (data_first_activity['call_date'].notna())\n",
    "    & (data_first_activity['message_date'].isna())\n",
    "    & (data_first_activity['session_date'].notna())\n",
    ")\n",
    "\n",
    "query_session_na= (\n",
    "    (data_first_activity['call_date'].notna())\n",
    "    & (data_first_activity['message_date'].notna())\n",
    "    & (data_first_activity['session_date'].isna())\n",
    ")\n",
    "\n"
   ]
  },
  {
   "cell_type": "markdown",
   "metadata": {},
   "source": [
    "Запишем в столбце `first_action` дату наиболее ранего действия из имеющихся"
   ]
  },
  {
   "cell_type": "code",
   "execution_count": 101,
   "metadata": {},
   "outputs": [],
   "source": [
    "data_first_activity.loc[query_wo_na, 'first_action'] = (\n",
    "    data_first_activity.loc[query_wo_na, ['call_date', 'message_date', 'session_date', 'first_action']]\n",
    "    .cummin(axis=1)\n",
    ")\n",
    "\n",
    "data_first_activity.loc[query_call_na, 'first_action'] = (\n",
    "    data_first_activity.loc[query_call_na, ['message_date', 'session_date', 'first_action']]\n",
    "    .cummin(axis=1)\n",
    ")\n",
    "\n",
    "data_first_activity.loc[query_message_na, 'first_action'] = (\n",
    "    data_first_activity.loc[query_message_na, ['call_date', 'session_date', 'first_action']]\n",
    "    .cummin(axis=1)\n",
    ")\n",
    "\n",
    "data_first_activity.loc[query_session_na, 'first_action'] = (\n",
    "    data_first_activity.loc[query_session_na, ['call_date', 'message_date', 'first_action']]\n",
    "    .cummin(axis=1)\n",
    ")"
   ]
  },
  {
   "cell_type": "markdown",
   "metadata": {},
   "source": [
    "Проверим совершал ли пользователь звонки, отправку сообщений или использование интернета до даты регистрации"
   ]
  },
  {
   "cell_type": "code",
   "execution_count": 102,
   "metadata": {},
   "outputs": [
    {
     "data": {
      "text/html": [
       "<div>\n",
       "<style scoped>\n",
       "    .dataframe tbody tr th:only-of-type {\n",
       "        vertical-align: middle;\n",
       "    }\n",
       "\n",
       "    .dataframe tbody tr th {\n",
       "        vertical-align: top;\n",
       "    }\n",
       "\n",
       "    .dataframe thead th {\n",
       "        text-align: right;\n",
       "    }\n",
       "</style>\n",
       "<table border=\"1\" class=\"dataframe\">\n",
       "  <thead>\n",
       "    <tr style=\"text-align: right;\">\n",
       "      <th></th>\n",
       "      <th>user_id</th>\n",
       "      <th>reg_date</th>\n",
       "      <th>call_date</th>\n",
       "      <th>message_date</th>\n",
       "      <th>session_date</th>\n",
       "      <th>first_action</th>\n",
       "      <th>reg_diff_act</th>\n",
       "    </tr>\n",
       "  </thead>\n",
       "  <tbody>\n",
       "  </tbody>\n",
       "</table>\n",
       "</div>"
      ],
      "text/plain": [
       "Empty DataFrame\n",
       "Columns: [user_id, reg_date, call_date, message_date, session_date, first_action, reg_diff_act]\n",
       "Index: []"
      ]
     },
     "execution_count": 102,
     "metadata": {},
     "output_type": "execute_result"
    }
   ],
   "source": [
    "data_first_activity['reg_diff_act'] = data_first_activity['reg_date'] - data_first_activity['first_action']\n",
    "data_first_activity['reg_diff_act'] = data_first_activity['reg_diff_act'].astype(int)\n",
    "data_first_activity.query('reg_diff_act < 0')"
   ]
  },
  {
   "cell_type": "markdown",
   "metadata": {},
   "source": [
    "Таких пользователей не нашлось, **все услуги пользователи использовали после регистрации**"
   ]
  },
  {
   "cell_type": "code",
   "execution_count": null,
   "metadata": {},
   "outputs": [],
   "source": []
  },
  {
   "cell_type": "markdown",
   "metadata": {},
   "source": [
    "#### 2.2. Проверка нулевых значений для звонков трафика"
   ]
  },
  {
   "cell_type": "code",
   "execution_count": 103,
   "metadata": {},
   "outputs": [
    {
     "data": {
      "image/png": "[encoded data removed]",
      "text/plain": [
       "<Figure size 576x360 with 1 Axes>"
      ]
     },
     "metadata": {
      "needs_background": "light"
     },
     "output_type": "display_data"
    }
   ],
   "source": [
    "data_calls['duration'].hist(bins=50)\n",
    "plt.show()"
   ]
  },
  {
   "cell_type": "code",
   "execution_count": 104,
   "metadata": {},
   "outputs": [
    {
     "data": {
      "image/png": "[encoded data removed]",
      "text/plain": [
       "<Figure size 576x360 with 1 Axes>"
      ]
     },
     "metadata": {
      "needs_background": "light"
     },
     "output_type": "display_data"
    }
   ],
   "source": [
    "data_internet['mb_used'].hist(bins=30)\n",
    "plt.show()"
   ]
  },
  {
   "cell_type": "markdown",
   "metadata": {},
   "source": [
    "Как видно на гистограммах, имеется большое количество записей для звонком и сессий соединений с нулевыми значениями.\n",
    "Т.к. данные скорее всего соответствуют попыткам дозвониться и попыткам получить соединени, на не их продолжительности, то полезной инхормации, кроме как о \"настойчивости\" клиена они нам не дадут. Скорее всего эта информация была бы полезна при определении причины отказа от услуг (является ли большое количество нулевых значений способствующим фактором?), или определения периодов с \"проблемами\" связи, Но это другая задача\n",
    "\n",
    "Принимая вышесказанное предлагается удальть нулевые значения"
   ]
  },
  {
   "cell_type": "code",
   "execution_count": 105,
   "metadata": {},
   "outputs": [],
   "source": [
    "data_calls = data_calls.loc[data_calls['duration'] != 0]\n",
    "data_internet = data_internet.loc[data_internet['mb_used'] != 0]"
   ]
  },
  {
   "cell_type": "code",
   "execution_count": 106,
   "metadata": {},
   "outputs": [
    {
     "data": {
      "image/png": "[encoded data removed]",
      "text/plain": [
       "<Figure size 576x360 with 1 Axes>"
      ]
     },
     "metadata": {
      "needs_background": "light"
     },
     "output_type": "display_data"
    }
   ],
   "source": [
    "data_calls['duration'].hist(bins=50)\n",
    "plt.show()"
   ]
  },
  {
   "cell_type": "code",
   "execution_count": 107,
   "metadata": {},
   "outputs": [
    {
     "data": {
      "image/png": "[encoded data removed]",
      "text/plain": [
       "<Figure size 576x360 with 1 Axes>"
      ]
     },
     "metadata": {
      "needs_background": "light"
     },
     "output_type": "display_data"
    }
   ],
   "source": [
    "data_internet['mb_used'].hist(bins=30)\n",
    "plt.show()"
   ]
  },
  {
   "cell_type": "markdown",
   "metadata": {},
   "source": [
    "### 3. Округление значений"
   ]
  },
  {
   "cell_type": "code",
   "execution_count": 108,
   "metadata": {},
   "outputs": [],
   "source": [
    "# Округлим минуты и Мегабайты до верхнего значения\n",
    "data_calls['duration'] = np.ceil(data_calls['duration']).astype(int)\n",
    "data_internet['mb_used'] = np.ceil(data_internet['mb_used']).astype(int)"
   ]
  },
  {
   "cell_type": "markdown",
   "metadata": {},
   "source": [
    "#### 4.1. Минуты и количество звонков"
   ]
  },
  {
   "cell_type": "markdown",
   "metadata": {},
   "source": [
    "т.к. для каждого пользователя начало месяца будет соответствовать дате его регистрации, то определим номер использования месяца для каждого пользователя и добавим в колонку `month`. Данная колонка будет хранить номер порядкогово месяца пользования услугами"
   ]
  },
  {
   "cell_type": "code",
   "execution_count": 109,
   "metadata": {},
   "outputs": [],
   "source": [
    "def month_ordinal (df1, df2, column):\n",
    "    \"\"\"\n",
    "    Функция возращает таблицу с добавленным столбецом 'month',\n",
    "    число в столбце соответствует порядковому месяца использования от даты регистрации,\n",
    "    и прибавляет номер календарного месяца, для соотнесения с календарным месяцем\n",
    "    принимает df1, df2, column\n",
    "    df1 - таблица, где содержится дата регистрации, соответствующего пользователя;\n",
    "    df2 - таблица, где содержутся действиия(звонки, смс и т.п.), для которых нужно определить номер месяца\n",
    "    column - название колонки, с датой действия \n",
    "    \"\"\"\n",
    "    \n",
    "    #Добавим для вычислений дату регистрации для каждого пользователя\n",
    "    df2 = df2.merge(df1[['reg_date', 'user_id']], how='right', on='user_id')\n",
    "    #Удалим пользователей, которые не совершали никаких действий\n",
    "    df2.dropna(inplace=True)\n",
    "    \n",
    "    #Найдем разницу в днях между датой действия и датой регистрации\n",
    "    df2['month'] = pd.DatetimeIndex(df2[column]).month - pd.DatetimeIndex(df2['reg_date']).month\n",
    "\n",
    "\n",
    "    #Найдем количество полных месяцев соответствующее каждой дате, начиная с первого и прибавим месяц регистрации\n",
    "    df2['month'] = df2['month'] + pd.DatetimeIndex(df2['reg_date']).month\n",
    "\n",
    "\n",
    "    #Удалим колонку с датой регистрации, т.к. она нам больше не нужна\n",
    "    df2 = df2.drop(columns='reg_date')\n",
    "    return df2"
   ]
  },
  {
   "cell_type": "code",
   "execution_count": 110,
   "metadata": {},
   "outputs": [],
   "source": [
    "data_calls = month_ordinal(data_users, data_calls, 'call_date')"
   ]
  },
  {
   "cell_type": "code",
   "execution_count": 111,
   "metadata": {},
   "outputs": [],
   "source": [
    "data_calls['duration'] = data_calls['duration'].astype(int)"
   ]
  },
  {
   "cell_type": "code",
   "execution_count": 112,
   "metadata": {},
   "outputs": [],
   "source": [
    "#Сгруппируем суммарное количество минут по месяцам\n",
    "pivot_sum_of_minutes_by_month = (\n",
    "    data_calls\n",
    "    .pivot_table(index='user_id', columns='month', values='duration', aggfunc=('sum'))\n",
    ")\n",
    "#Сгруппируем суммарное количество звонков по месяцам, исключая пропущенные (длительность 0)\n",
    "pivot_numder_of_calls_by_month = (\n",
    "    data_calls\n",
    "    .pivot_table(index='user_id', columns='month', values='duration', aggfunc=('count'))\n",
    ")"
   ]
  },
  {
   "cell_type": "markdown",
   "metadata": {},
   "source": [
    "#### 4.2. Объем трафика "
   ]
  },
  {
   "cell_type": "markdown",
   "metadata": {},
   "source": [
    "т.к. для каждого пользователя начало месяца будет соответствовать дате его регистрации, то определим номер использования месяца для каждого пользователя и добавим в колонку `month_of_usage`. Данная колонка будет хранить номер порядкогово месяца пользования услугами"
   ]
  },
  {
   "cell_type": "code",
   "execution_count": 113,
   "metadata": {},
   "outputs": [],
   "source": [
    "data_internet = month_ordinal(data_users, data_internet, 'session_date')"
   ]
  },
  {
   "cell_type": "code",
   "execution_count": 114,
   "metadata": {},
   "outputs": [],
   "source": [
    "#Сгруппируем суммарное количество сообщений по месяцам\n",
    "pivot_number_of_traffic_by_month = (\n",
    "    data_internet\n",
    "    .pivot_table(index='user_id', columns='month', values='mb_used', aggfunc=('sum'))\n",
    ")"
   ]
  },
  {
   "cell_type": "markdown",
   "metadata": {},
   "source": [
    "#### 4.3. Количество сообщений"
   ]
  },
  {
   "cell_type": "markdown",
   "metadata": {},
   "source": [
    "т.к. для каждого пользователя начало месяца будет соответствовать дате его регистрации, то определим номер использования месяца для каждого пользователя и добавим в колонку `month_of_usage`. Данная колонка будет хранить номер порядкогово месяца пользования услугами"
   ]
  },
  {
   "cell_type": "code",
   "execution_count": 115,
   "metadata": {},
   "outputs": [],
   "source": [
    "data_messages = month_ordinal(data_users, data_messages, 'message_date')"
   ]
  },
  {
   "cell_type": "code",
   "execution_count": 116,
   "metadata": {},
   "outputs": [],
   "source": [
    "#Сгруппируем суммарное количество сообщений по месяцам\n",
    "pivot_number_of_masseges_by_month = (\n",
    "    data_messages\n",
    "    .pivot_table(index='user_id', columns='month', values='message_date', aggfunc=('count'))\n",
    ")"
   ]
  },
  {
   "cell_type": "markdown",
   "metadata": {},
   "source": [
    "#### 4.4. Месячная выручка"
   ]
  },
  {
   "cell_type": "markdown",
   "metadata": {},
   "source": [
    "Расчитаем выручку по месячно от звонков"
   ]
  },
  {
   "cell_type": "code",
   "execution_count": 117,
   "metadata": {},
   "outputs": [],
   "source": [
    "#Добавим в таблицу вспомогательные столбцы в соответствии с user_id, для расчета\n",
    "pivot_sum_of_minutes_by_month = (\n",
    "    pivot_sum_of_minutes_by_month.merge(data_users[['tariff', 'user_id']], how='left', on='user_id')\n",
    ")\n",
    "\n",
    "pivot_sum_of_minutes_by_month = (\n",
    "    pivot_sum_of_minutes_by_month.merge(data_tariffs[['tariff_name', 'minutes_included', 'rub_per_minute']],\n",
    "                                        how='left', left_on='tariff', right_on='tariff_name')\n",
    ")"
   ]
  },
  {
   "cell_type": "code",
   "execution_count": 118,
   "metadata": {},
   "outputs": [],
   "source": [
    "#Создадим функцию, определяющую для каждого столбца(месяца) количесто израсходованных минут\n",
    "#Если минут использовано больше чем лимит тарифа, то умножаем на соответствующую стоимость\n",
    "#количество минут сверх лимита\n",
    "def calls_income_compute (df):\n",
    "    for i in range(12):\n",
    "        if (df['minutes_included'] - df[i+1]) >= 0:\n",
    "            df[i+1] = 0\n",
    "        else: \n",
    "            df[i+1] = (df[i+1] - df['minutes_included']) * df['rub_per_minute']\n",
    "    return df\n",
    "#Применим функцию с нашему датафрейму с количеством минут за месяц, сохраним в новый df\n",
    "calls_income = pivot_sum_of_minutes_by_month.apply(calls_income_compute, axis=1)\n",
    "#Отбросим вспомогательные колонки используемые в расчете\n",
    "calls_income = calls_income.drop(columns=['tariff', 'tariff_name', 'minutes_included', 'rub_per_minute'])"
   ]
  },
  {
   "cell_type": "code",
   "execution_count": 119,
   "metadata": {
    "scrolled": false
   },
   "outputs": [
    {
     "data": {
      "text/html": [
       "<div>\n",
       "<style scoped>\n",
       "    .dataframe tbody tr th:only-of-type {\n",
       "        vertical-align: middle;\n",
       "    }\n",
       "\n",
       "    .dataframe tbody tr th {\n",
       "        vertical-align: top;\n",
       "    }\n",
       "\n",
       "    .dataframe thead th {\n",
       "        text-align: right;\n",
       "    }\n",
       "</style>\n",
       "<table border=\"1\" class=\"dataframe\">\n",
       "  <thead>\n",
       "    <tr style=\"text-align: right;\">\n",
       "      <th></th>\n",
       "      <th>1</th>\n",
       "      <th>2</th>\n",
       "      <th>3</th>\n",
       "      <th>4</th>\n",
       "      <th>5</th>\n",
       "      <th>6</th>\n",
       "      <th>7</th>\n",
       "      <th>8</th>\n",
       "      <th>9</th>\n",
       "      <th>10</th>\n",
       "      <th>11</th>\n",
       "      <th>12</th>\n",
       "    </tr>\n",
       "    <tr>\n",
       "      <th>user_id</th>\n",
       "      <th></th>\n",
       "      <th></th>\n",
       "      <th></th>\n",
       "      <th></th>\n",
       "      <th></th>\n",
       "      <th></th>\n",
       "      <th></th>\n",
       "      <th></th>\n",
       "      <th></th>\n",
       "      <th></th>\n",
       "      <th></th>\n",
       "      <th></th>\n",
       "    </tr>\n",
       "  </thead>\n",
       "  <tbody>\n",
       "    <tr>\n",
       "      <td>1000</td>\n",
       "      <td>nan</td>\n",
       "      <td>nan</td>\n",
       "      <td>nan</td>\n",
       "      <td>nan</td>\n",
       "      <td>0.00</td>\n",
       "      <td>0.00</td>\n",
       "      <td>0.00</td>\n",
       "      <td>0.00</td>\n",
       "      <td>0.00</td>\n",
       "      <td>0.00</td>\n",
       "      <td>0.00</td>\n",
       "      <td>0.00</td>\n",
       "    </tr>\n",
       "    <tr>\n",
       "      <td>1001</td>\n",
       "      <td>nan</td>\n",
       "      <td>nan</td>\n",
       "      <td>nan</td>\n",
       "      <td>nan</td>\n",
       "      <td>nan</td>\n",
       "      <td>nan</td>\n",
       "      <td>nan</td>\n",
       "      <td>nan</td>\n",
       "      <td>nan</td>\n",
       "      <td>nan</td>\n",
       "      <td>0.00</td>\n",
       "      <td>0.00</td>\n",
       "    </tr>\n",
       "    <tr>\n",
       "      <td>1002</td>\n",
       "      <td>nan</td>\n",
       "      <td>nan</td>\n",
       "      <td>nan</td>\n",
       "      <td>nan</td>\n",
       "      <td>nan</td>\n",
       "      <td>0.00</td>\n",
       "      <td>0.00</td>\n",
       "      <td>0.00</td>\n",
       "      <td>0.00</td>\n",
       "      <td>0.00</td>\n",
       "      <td>0.00</td>\n",
       "      <td>0.00</td>\n",
       "    </tr>\n",
       "    <tr>\n",
       "      <td>1003</td>\n",
       "      <td>nan</td>\n",
       "      <td>nan</td>\n",
       "      <td>nan</td>\n",
       "      <td>nan</td>\n",
       "      <td>nan</td>\n",
       "      <td>nan</td>\n",
       "      <td>nan</td>\n",
       "      <td>0.00</td>\n",
       "      <td>0.00</td>\n",
       "      <td>0.00</td>\n",
       "      <td>0.00</td>\n",
       "      <td>0.00</td>\n",
       "    </tr>\n",
       "    <tr>\n",
       "      <td>1004</td>\n",
       "      <td>nan</td>\n",
       "      <td>nan</td>\n",
       "      <td>nan</td>\n",
       "      <td>nan</td>\n",
       "      <td>0.00</td>\n",
       "      <td>0.00</td>\n",
       "      <td>0.00</td>\n",
       "      <td>0.00</td>\n",
       "      <td>0.00</td>\n",
       "      <td>0.00</td>\n",
       "      <td>0.00</td>\n",
       "      <td>0.00</td>\n",
       "    </tr>\n",
       "    <tr>\n",
       "      <td>...</td>\n",
       "      <td>...</td>\n",
       "      <td>...</td>\n",
       "      <td>...</td>\n",
       "      <td>...</td>\n",
       "      <td>...</td>\n",
       "      <td>...</td>\n",
       "      <td>...</td>\n",
       "      <td>...</td>\n",
       "      <td>...</td>\n",
       "      <td>...</td>\n",
       "      <td>...</td>\n",
       "      <td>...</td>\n",
       "    </tr>\n",
       "    <tr>\n",
       "      <td>1495</td>\n",
       "      <td>nan</td>\n",
       "      <td>nan</td>\n",
       "      <td>nan</td>\n",
       "      <td>nan</td>\n",
       "      <td>nan</td>\n",
       "      <td>nan</td>\n",
       "      <td>nan</td>\n",
       "      <td>0.00</td>\n",
       "      <td>0.00</td>\n",
       "      <td>0.00</td>\n",
       "      <td>0.00</td>\n",
       "      <td>0.00</td>\n",
       "    </tr>\n",
       "    <tr>\n",
       "      <td>1496</td>\n",
       "      <td>0.00</td>\n",
       "      <td>282.00</td>\n",
       "      <td>171.00</td>\n",
       "      <td>63.00</td>\n",
       "      <td>0.00</td>\n",
       "      <td>165.00</td>\n",
       "      <td>246.00</td>\n",
       "      <td>81.00</td>\n",
       "      <td>0.00</td>\n",
       "      <td>0.00</td>\n",
       "      <td>486.00</td>\n",
       "      <td>54.00</td>\n",
       "    </tr>\n",
       "    <tr>\n",
       "      <td>1497</td>\n",
       "      <td>nan</td>\n",
       "      <td>nan</td>\n",
       "      <td>nan</td>\n",
       "      <td>nan</td>\n",
       "      <td>nan</td>\n",
       "      <td>nan</td>\n",
       "      <td>nan</td>\n",
       "      <td>nan</td>\n",
       "      <td>nan</td>\n",
       "      <td>0.00</td>\n",
       "      <td>0.00</td>\n",
       "      <td>135.00</td>\n",
       "    </tr>\n",
       "    <tr>\n",
       "      <td>1498</td>\n",
       "      <td>nan</td>\n",
       "      <td>nan</td>\n",
       "      <td>nan</td>\n",
       "      <td>nan</td>\n",
       "      <td>nan</td>\n",
       "      <td>nan</td>\n",
       "      <td>0.00</td>\n",
       "      <td>0.00</td>\n",
       "      <td>0.00</td>\n",
       "      <td>0.00</td>\n",
       "      <td>nan</td>\n",
       "      <td>nan</td>\n",
       "    </tr>\n",
       "    <tr>\n",
       "      <td>1499</td>\n",
       "      <td>nan</td>\n",
       "      <td>nan</td>\n",
       "      <td>nan</td>\n",
       "      <td>nan</td>\n",
       "      <td>nan</td>\n",
       "      <td>nan</td>\n",
       "      <td>nan</td>\n",
       "      <td>nan</td>\n",
       "      <td>0.00</td>\n",
       "      <td>0.00</td>\n",
       "      <td>336.00</td>\n",
       "      <td>0.00</td>\n",
       "    </tr>\n",
       "  </tbody>\n",
       "</table>\n",
       "<p>500 rows × 12 columns</p>\n",
       "</div>"
      ],
      "text/plain": [
       "          1      2      3     4    5      6      7     8    9    10     11  \\\n",
       "user_id                                                                      \n",
       "1000     nan    nan    nan   nan 0.00   0.00   0.00  0.00 0.00 0.00   0.00   \n",
       "1001     nan    nan    nan   nan  nan    nan    nan   nan  nan  nan   0.00   \n",
       "1002     nan    nan    nan   nan  nan   0.00   0.00  0.00 0.00 0.00   0.00   \n",
       "1003     nan    nan    nan   nan  nan    nan    nan  0.00 0.00 0.00   0.00   \n",
       "1004     nan    nan    nan   nan 0.00   0.00   0.00  0.00 0.00 0.00   0.00   \n",
       "...      ...    ...    ...   ...  ...    ...    ...   ...  ...  ...    ...   \n",
       "1495     nan    nan    nan   nan  nan    nan    nan  0.00 0.00 0.00   0.00   \n",
       "1496    0.00 282.00 171.00 63.00 0.00 165.00 246.00 81.00 0.00 0.00 486.00   \n",
       "1497     nan    nan    nan   nan  nan    nan    nan   nan  nan 0.00   0.00   \n",
       "1498     nan    nan    nan   nan  nan    nan   0.00  0.00 0.00 0.00    nan   \n",
       "1499     nan    nan    nan   nan  nan    nan    nan   nan 0.00 0.00 336.00   \n",
       "\n",
       "            12  \n",
       "user_id         \n",
       "1000      0.00  \n",
       "1001      0.00  \n",
       "1002      0.00  \n",
       "1003      0.00  \n",
       "1004      0.00  \n",
       "...        ...  \n",
       "1495      0.00  \n",
       "1496     54.00  \n",
       "1497    135.00  \n",
       "1498       nan  \n",
       "1499      0.00  \n",
       "\n",
       "[500 rows x 12 columns]"
      ]
     },
     "execution_count": 119,
     "metadata": {},
     "output_type": "execute_result"
    }
   ],
   "source": [
    "#Добавим всех пользователей, т.к. в исходной, только те, кто пользовался связью\n",
    "calls_income = calls_income.merge(data_users['user_id'], how='right', on='user_id').sort_values(by='user_id')\n",
    "#Установим индекс в качестве user_id для соединения с другими таблицами\n",
    "calls_income = calls_income.set_index('user_id')\n",
    "#Проверим данные\n",
    "calls_income"
   ]
  },
  {
   "cell_type": "markdown",
   "metadata": {},
   "source": [
    "Расчитаем выручку по месячно от сообщений"
   ]
  },
  {
   "cell_type": "code",
   "execution_count": 120,
   "metadata": {},
   "outputs": [],
   "source": [
    "#Добавим в таблицу вспомогательные столбцы в соответствии с user_id, для расчета\n",
    "pivot_number_of_masseges_by_month = (\n",
    "    pivot_number_of_masseges_by_month.merge(data_users[['tariff', 'user_id']], how='left', on='user_id')\n",
    ")\n",
    "\n",
    "pivot_number_of_masseges_by_month = (\n",
    "    pivot_number_of_masseges_by_month.merge(data_tariffs[['tariff_name', 'messages_included', 'rub_per_message']],\n",
    "                                        how='left', left_on='tariff', right_on='tariff_name')\n",
    ")"
   ]
  },
  {
   "cell_type": "code",
   "execution_count": 121,
   "metadata": {},
   "outputs": [],
   "source": [
    "#Создадим функцию, определяющую для каждого столбца(месяца) количесто израсходованных сообщений\n",
    "#Если сообщений использовано больше чем лимит тарифа, то умножаем на соответствующую стоимость\n",
    "#количество сообщений сверх лимита\n",
    "def mess_income_compute (df):\n",
    "    for i in range(12):\n",
    "        if (df['messages_included'] - df[i+1]) >= 0:\n",
    "            df[i+1] = 0\n",
    "        else: \n",
    "            df[i+1] = (df[i+1] - df['messages_included']) * df['rub_per_message']\n",
    "    return df\n",
    "#Применим функцию с нашему датафрейму с количеством смс за месяц, сохраним в новый df\n",
    "mess_income = pivot_number_of_masseges_by_month.apply(mess_income_compute, axis=1)\n",
    "#Отбросим вспомогательные колонки используемые в расчете\n",
    "mess_income = mess_income.drop(columns=['tariff', 'tariff_name', 'messages_included', 'rub_per_message'])"
   ]
  },
  {
   "cell_type": "code",
   "execution_count": 122,
   "metadata": {},
   "outputs": [
    {
     "data": {
      "text/html": [
       "<div>\n",
       "<style scoped>\n",
       "    .dataframe tbody tr th:only-of-type {\n",
       "        vertical-align: middle;\n",
       "    }\n",
       "\n",
       "    .dataframe tbody tr th {\n",
       "        vertical-align: top;\n",
       "    }\n",
       "\n",
       "    .dataframe thead th {\n",
       "        text-align: right;\n",
       "    }\n",
       "</style>\n",
       "<table border=\"1\" class=\"dataframe\">\n",
       "  <thead>\n",
       "    <tr style=\"text-align: right;\">\n",
       "      <th></th>\n",
       "      <th>1</th>\n",
       "      <th>2</th>\n",
       "      <th>3</th>\n",
       "      <th>4</th>\n",
       "      <th>5</th>\n",
       "      <th>6</th>\n",
       "      <th>7</th>\n",
       "      <th>8</th>\n",
       "      <th>9</th>\n",
       "      <th>10</th>\n",
       "      <th>11</th>\n",
       "      <th>12</th>\n",
       "    </tr>\n",
       "    <tr>\n",
       "      <th>user_id</th>\n",
       "      <th></th>\n",
       "      <th></th>\n",
       "      <th></th>\n",
       "      <th></th>\n",
       "      <th></th>\n",
       "      <th></th>\n",
       "      <th></th>\n",
       "      <th></th>\n",
       "      <th></th>\n",
       "      <th></th>\n",
       "      <th></th>\n",
       "      <th></th>\n",
       "    </tr>\n",
       "  </thead>\n",
       "  <tbody>\n",
       "    <tr>\n",
       "      <td>1000</td>\n",
       "      <td>nan</td>\n",
       "      <td>nan</td>\n",
       "      <td>nan</td>\n",
       "      <td>nan</td>\n",
       "      <td>0.00</td>\n",
       "      <td>0.00</td>\n",
       "      <td>0.00</td>\n",
       "      <td>0.00</td>\n",
       "      <td>0.00</td>\n",
       "      <td>0.00</td>\n",
       "      <td>0.00</td>\n",
       "      <td>0.00</td>\n",
       "    </tr>\n",
       "    <tr>\n",
       "      <td>1001</td>\n",
       "      <td>nan</td>\n",
       "      <td>nan</td>\n",
       "      <td>nan</td>\n",
       "      <td>nan</td>\n",
       "      <td>nan</td>\n",
       "      <td>nan</td>\n",
       "      <td>nan</td>\n",
       "      <td>nan</td>\n",
       "      <td>nan</td>\n",
       "      <td>nan</td>\n",
       "      <td>nan</td>\n",
       "      <td>nan</td>\n",
       "    </tr>\n",
       "    <tr>\n",
       "      <td>1002</td>\n",
       "      <td>nan</td>\n",
       "      <td>nan</td>\n",
       "      <td>nan</td>\n",
       "      <td>nan</td>\n",
       "      <td>nan</td>\n",
       "      <td>0.00</td>\n",
       "      <td>0.00</td>\n",
       "      <td>0.00</td>\n",
       "      <td>0.00</td>\n",
       "      <td>0.00</td>\n",
       "      <td>0.00</td>\n",
       "      <td>0.00</td>\n",
       "    </tr>\n",
       "    <tr>\n",
       "      <td>1003</td>\n",
       "      <td>nan</td>\n",
       "      <td>nan</td>\n",
       "      <td>nan</td>\n",
       "      <td>nan</td>\n",
       "      <td>nan</td>\n",
       "      <td>nan</td>\n",
       "      <td>nan</td>\n",
       "      <td>0.00</td>\n",
       "      <td>0.00</td>\n",
       "      <td>0.00</td>\n",
       "      <td>0.00</td>\n",
       "      <td>0.00</td>\n",
       "    </tr>\n",
       "    <tr>\n",
       "      <td>1004</td>\n",
       "      <td>nan</td>\n",
       "      <td>nan</td>\n",
       "      <td>nan</td>\n",
       "      <td>nan</td>\n",
       "      <td>0.00</td>\n",
       "      <td>0.00</td>\n",
       "      <td>0.00</td>\n",
       "      <td>0.00</td>\n",
       "      <td>0.00</td>\n",
       "      <td>0.00</td>\n",
       "      <td>0.00</td>\n",
       "      <td>0.00</td>\n",
       "    </tr>\n",
       "    <tr>\n",
       "      <td>...</td>\n",
       "      <td>...</td>\n",
       "      <td>...</td>\n",
       "      <td>...</td>\n",
       "      <td>...</td>\n",
       "      <td>...</td>\n",
       "      <td>...</td>\n",
       "      <td>...</td>\n",
       "      <td>...</td>\n",
       "      <td>...</td>\n",
       "      <td>...</td>\n",
       "      <td>...</td>\n",
       "      <td>...</td>\n",
       "    </tr>\n",
       "    <tr>\n",
       "      <td>1495</td>\n",
       "      <td>nan</td>\n",
       "      <td>nan</td>\n",
       "      <td>nan</td>\n",
       "      <td>nan</td>\n",
       "      <td>nan</td>\n",
       "      <td>nan</td>\n",
       "      <td>nan</td>\n",
       "      <td>0.00</td>\n",
       "      <td>0.00</td>\n",
       "      <td>0.00</td>\n",
       "      <td>0.00</td>\n",
       "      <td>0.00</td>\n",
       "    </tr>\n",
       "    <tr>\n",
       "      <td>1496</td>\n",
       "      <td>0.00</td>\n",
       "      <td>0.00</td>\n",
       "      <td>0.00</td>\n",
       "      <td>0.00</td>\n",
       "      <td>0.00</td>\n",
       "      <td>0.00</td>\n",
       "      <td>0.00</td>\n",
       "      <td>0.00</td>\n",
       "      <td>0.00</td>\n",
       "      <td>0.00</td>\n",
       "      <td>0.00</td>\n",
       "      <td>3.00</td>\n",
       "    </tr>\n",
       "    <tr>\n",
       "      <td>1497</td>\n",
       "      <td>nan</td>\n",
       "      <td>nan</td>\n",
       "      <td>nan</td>\n",
       "      <td>nan</td>\n",
       "      <td>nan</td>\n",
       "      <td>nan</td>\n",
       "      <td>nan</td>\n",
       "      <td>nan</td>\n",
       "      <td>nan</td>\n",
       "      <td>0.00</td>\n",
       "      <td>0.00</td>\n",
       "      <td>0.00</td>\n",
       "    </tr>\n",
       "    <tr>\n",
       "      <td>1498</td>\n",
       "      <td>nan</td>\n",
       "      <td>nan</td>\n",
       "      <td>nan</td>\n",
       "      <td>nan</td>\n",
       "      <td>nan</td>\n",
       "      <td>nan</td>\n",
       "      <td>0.00</td>\n",
       "      <td>36.00</td>\n",
       "      <td>0.00</td>\n",
       "      <td>0.00</td>\n",
       "      <td>nan</td>\n",
       "      <td>nan</td>\n",
       "    </tr>\n",
       "    <tr>\n",
       "      <td>1499</td>\n",
       "      <td>nan</td>\n",
       "      <td>nan</td>\n",
       "      <td>nan</td>\n",
       "      <td>nan</td>\n",
       "      <td>nan</td>\n",
       "      <td>nan</td>\n",
       "      <td>nan</td>\n",
       "      <td>nan</td>\n",
       "      <td>0.00</td>\n",
       "      <td>0.00</td>\n",
       "      <td>27.00</td>\n",
       "      <td>48.00</td>\n",
       "    </tr>\n",
       "  </tbody>\n",
       "</table>\n",
       "<p>500 rows × 12 columns</p>\n",
       "</div>"
      ],
      "text/plain": [
       "          1    2    3    4    5    6    7     8    9    10    11    12\n",
       "user_id                                                               \n",
       "1000     nan  nan  nan  nan 0.00 0.00 0.00  0.00 0.00 0.00  0.00  0.00\n",
       "1001     nan  nan  nan  nan  nan  nan  nan   nan  nan  nan   nan   nan\n",
       "1002     nan  nan  nan  nan  nan 0.00 0.00  0.00 0.00 0.00  0.00  0.00\n",
       "1003     nan  nan  nan  nan  nan  nan  nan  0.00 0.00 0.00  0.00  0.00\n",
       "1004     nan  nan  nan  nan 0.00 0.00 0.00  0.00 0.00 0.00  0.00  0.00\n",
       "...      ...  ...  ...  ...  ...  ...  ...   ...  ...  ...   ...   ...\n",
       "1495     nan  nan  nan  nan  nan  nan  nan  0.00 0.00 0.00  0.00  0.00\n",
       "1496    0.00 0.00 0.00 0.00 0.00 0.00 0.00  0.00 0.00 0.00  0.00  3.00\n",
       "1497     nan  nan  nan  nan  nan  nan  nan   nan  nan 0.00  0.00  0.00\n",
       "1498     nan  nan  nan  nan  nan  nan 0.00 36.00 0.00 0.00   nan   nan\n",
       "1499     nan  nan  nan  nan  nan  nan  nan   nan 0.00 0.00 27.00 48.00\n",
       "\n",
       "[500 rows x 12 columns]"
      ]
     },
     "execution_count": 122,
     "metadata": {},
     "output_type": "execute_result"
    }
   ],
   "source": [
    "#Добавим всех пользователей, т.к. в исходной, только те, кто пользовался связью\n",
    "mess_income = mess_income.merge(data_users['user_id'], how='right', on='user_id').sort_values(by='user_id')\n",
    "#Установим индекс в качестве user_id для соединения с другими таблицами\n",
    "mess_income = mess_income.set_index('user_id')\n",
    "mess_income"
   ]
  },
  {
   "cell_type": "markdown",
   "metadata": {},
   "source": [
    "Расчитаем выручку по месячно от использования интернета"
   ]
  },
  {
   "cell_type": "code",
   "execution_count": 123,
   "metadata": {},
   "outputs": [],
   "source": [
    "#Добавим в таблицу вспомогательные столбцы в соответствии с user_id, для расчета\n",
    "pivot_number_of_traffic_by_month = (\n",
    "    pivot_number_of_traffic_by_month.merge(data_users[['tariff', 'user_id']], how='left', on='user_id')\n",
    ")\n",
    "\n",
    "pivot_number_of_traffic_by_month = (\n",
    "    pivot_number_of_traffic_by_month.merge(data_tariffs[['tariff_name', 'mb_per_month_included', 'rub_per_gb']],\n",
    "                                        how='left', left_on='tariff', right_on='tariff_name')\n",
    ")"
   ]
  },
  {
   "cell_type": "code",
   "execution_count": 124,
   "metadata": {},
   "outputs": [],
   "source": [
    "#Создадим функцию, определяющую для каждого столбца(месяца) количесто израсходованных Мб\n",
    "#Если Мб использовано больше чем лимит тарифа, то умножаем на соответствующую стоимость\n",
    "#количество Мб сверх лимита\n",
    "def traffic_income_compute (df):\n",
    "    for i in range(12):\n",
    "        if (df['mb_per_month_included'] - df[i+1]) >= 0:\n",
    "            df[i+1] = 0\n",
    "        else: \n",
    "            df[i+1] = np.ceil((df[i+1] - df['mb_per_month_included'])/ 1024) * df['rub_per_gb']\n",
    "    return df\n",
    "#Применим функцию с нашему датафрейму с количеством Мб за месяц, сохраним в новый df\n",
    "traffic_income = pivot_number_of_traffic_by_month.apply(traffic_income_compute, axis=1)\n",
    "#Отбросим вспомогательные колонки используемые в расчете\n",
    "traffic_income = traffic_income.drop(columns=['tariff', 'tariff_name', 'mb_per_month_included', 'rub_per_gb'])"
   ]
  },
  {
   "cell_type": "code",
   "execution_count": 125,
   "metadata": {},
   "outputs": [
    {
     "data": {
      "text/html": [
       "<div>\n",
       "<style scoped>\n",
       "    .dataframe tbody tr th:only-of-type {\n",
       "        vertical-align: middle;\n",
       "    }\n",
       "\n",
       "    .dataframe tbody tr th {\n",
       "        vertical-align: top;\n",
       "    }\n",
       "\n",
       "    .dataframe thead th {\n",
       "        text-align: right;\n",
       "    }\n",
       "</style>\n",
       "<table border=\"1\" class=\"dataframe\">\n",
       "  <thead>\n",
       "    <tr style=\"text-align: right;\">\n",
       "      <th></th>\n",
       "      <th>1</th>\n",
       "      <th>2</th>\n",
       "      <th>3</th>\n",
       "      <th>4</th>\n",
       "      <th>5</th>\n",
       "      <th>6</th>\n",
       "      <th>7</th>\n",
       "      <th>8</th>\n",
       "      <th>9</th>\n",
       "      <th>10</th>\n",
       "      <th>11</th>\n",
       "      <th>12</th>\n",
       "    </tr>\n",
       "    <tr>\n",
       "      <th>user_id</th>\n",
       "      <th></th>\n",
       "      <th></th>\n",
       "      <th></th>\n",
       "      <th></th>\n",
       "      <th></th>\n",
       "      <th></th>\n",
       "      <th></th>\n",
       "      <th></th>\n",
       "      <th></th>\n",
       "      <th></th>\n",
       "      <th></th>\n",
       "      <th></th>\n",
       "    </tr>\n",
       "  </thead>\n",
       "  <tbody>\n",
       "    <tr>\n",
       "      <td>1000</td>\n",
       "      <td>nan</td>\n",
       "      <td>nan</td>\n",
       "      <td>nan</td>\n",
       "      <td>nan</td>\n",
       "      <td>0.00</td>\n",
       "      <td>0.00</td>\n",
       "      <td>0.00</td>\n",
       "      <td>0.00</td>\n",
       "      <td>0.00</td>\n",
       "      <td>0.00</td>\n",
       "      <td>0.00</td>\n",
       "      <td>0.00</td>\n",
       "    </tr>\n",
       "    <tr>\n",
       "      <td>1001</td>\n",
       "      <td>nan</td>\n",
       "      <td>nan</td>\n",
       "      <td>nan</td>\n",
       "      <td>nan</td>\n",
       "      <td>nan</td>\n",
       "      <td>nan</td>\n",
       "      <td>nan</td>\n",
       "      <td>nan</td>\n",
       "      <td>nan</td>\n",
       "      <td>nan</td>\n",
       "      <td>800.00</td>\n",
       "      <td>0.00</td>\n",
       "    </tr>\n",
       "    <tr>\n",
       "      <td>1002</td>\n",
       "      <td>nan</td>\n",
       "      <td>nan</td>\n",
       "      <td>nan</td>\n",
       "      <td>nan</td>\n",
       "      <td>nan</td>\n",
       "      <td>0.00</td>\n",
       "      <td>600.00</td>\n",
       "      <td>1,000.00</td>\n",
       "      <td>400.00</td>\n",
       "      <td>0.00</td>\n",
       "      <td>800.00</td>\n",
       "      <td>600.00</td>\n",
       "    </tr>\n",
       "    <tr>\n",
       "      <td>1003</td>\n",
       "      <td>nan</td>\n",
       "      <td>nan</td>\n",
       "      <td>nan</td>\n",
       "      <td>nan</td>\n",
       "      <td>nan</td>\n",
       "      <td>nan</td>\n",
       "      <td>nan</td>\n",
       "      <td>0.00</td>\n",
       "      <td>0.00</td>\n",
       "      <td>0.00</td>\n",
       "      <td>0.00</td>\n",
       "      <td>0.00</td>\n",
       "    </tr>\n",
       "    <tr>\n",
       "      <td>1004</td>\n",
       "      <td>nan</td>\n",
       "      <td>nan</td>\n",
       "      <td>nan</td>\n",
       "      <td>nan</td>\n",
       "      <td>0.00</td>\n",
       "      <td>0.00</td>\n",
       "      <td>0.00</td>\n",
       "      <td>0.00</td>\n",
       "      <td>0.00</td>\n",
       "      <td>0.00</td>\n",
       "      <td>0.00</td>\n",
       "      <td>0.00</td>\n",
       "    </tr>\n",
       "    <tr>\n",
       "      <td>...</td>\n",
       "      <td>...</td>\n",
       "      <td>...</td>\n",
       "      <td>...</td>\n",
       "      <td>...</td>\n",
       "      <td>...</td>\n",
       "      <td>...</td>\n",
       "      <td>...</td>\n",
       "      <td>...</td>\n",
       "      <td>...</td>\n",
       "      <td>...</td>\n",
       "      <td>...</td>\n",
       "      <td>...</td>\n",
       "    </tr>\n",
       "    <tr>\n",
       "      <td>1495</td>\n",
       "      <td>nan</td>\n",
       "      <td>nan</td>\n",
       "      <td>nan</td>\n",
       "      <td>nan</td>\n",
       "      <td>nan</td>\n",
       "      <td>nan</td>\n",
       "      <td>nan</td>\n",
       "      <td>0.00</td>\n",
       "      <td>450.00</td>\n",
       "      <td>0.00</td>\n",
       "      <td>1,350.00</td>\n",
       "      <td>0.00</td>\n",
       "    </tr>\n",
       "    <tr>\n",
       "      <td>1496</td>\n",
       "      <td>0.00</td>\n",
       "      <td>2,600.00</td>\n",
       "      <td>2,000.00</td>\n",
       "      <td>1,200.00</td>\n",
       "      <td>1,800.00</td>\n",
       "      <td>1,000.00</td>\n",
       "      <td>1,800.00</td>\n",
       "      <td>1,800.00</td>\n",
       "      <td>2,400.00</td>\n",
       "      <td>2,600.00</td>\n",
       "      <td>2,000.00</td>\n",
       "      <td>1,200.00</td>\n",
       "    </tr>\n",
       "    <tr>\n",
       "      <td>1497</td>\n",
       "      <td>nan</td>\n",
       "      <td>nan</td>\n",
       "      <td>nan</td>\n",
       "      <td>nan</td>\n",
       "      <td>nan</td>\n",
       "      <td>nan</td>\n",
       "      <td>nan</td>\n",
       "      <td>nan</td>\n",
       "      <td>nan</td>\n",
       "      <td>0.00</td>\n",
       "      <td>0.00</td>\n",
       "      <td>1,000.00</td>\n",
       "    </tr>\n",
       "    <tr>\n",
       "      <td>1498</td>\n",
       "      <td>nan</td>\n",
       "      <td>nan</td>\n",
       "      <td>nan</td>\n",
       "      <td>nan</td>\n",
       "      <td>nan</td>\n",
       "      <td>nan</td>\n",
       "      <td>0.00</td>\n",
       "      <td>1,800.00</td>\n",
       "      <td>1,400.00</td>\n",
       "      <td>1,200.00</td>\n",
       "      <td>nan</td>\n",
       "      <td>nan</td>\n",
       "    </tr>\n",
       "    <tr>\n",
       "      <td>1499</td>\n",
       "      <td>nan</td>\n",
       "      <td>nan</td>\n",
       "      <td>nan</td>\n",
       "      <td>nan</td>\n",
       "      <td>nan</td>\n",
       "      <td>nan</td>\n",
       "      <td>nan</td>\n",
       "      <td>nan</td>\n",
       "      <td>0.00</td>\n",
       "      <td>600.00</td>\n",
       "      <td>600.00</td>\n",
       "      <td>0.00</td>\n",
       "    </tr>\n",
       "  </tbody>\n",
       "</table>\n",
       "<p>500 rows × 12 columns</p>\n",
       "</div>"
      ],
      "text/plain": [
       "          1        2        3        4        5        6        7        8   \\\n",
       "user_id                                                                       \n",
       "1000     nan      nan      nan      nan     0.00     0.00     0.00     0.00   \n",
       "1001     nan      nan      nan      nan      nan      nan      nan      nan   \n",
       "1002     nan      nan      nan      nan      nan     0.00   600.00 1,000.00   \n",
       "1003     nan      nan      nan      nan      nan      nan      nan     0.00   \n",
       "1004     nan      nan      nan      nan     0.00     0.00     0.00     0.00   \n",
       "...      ...      ...      ...      ...      ...      ...      ...      ...   \n",
       "1495     nan      nan      nan      nan      nan      nan      nan     0.00   \n",
       "1496    0.00 2,600.00 2,000.00 1,200.00 1,800.00 1,000.00 1,800.00 1,800.00   \n",
       "1497     nan      nan      nan      nan      nan      nan      nan      nan   \n",
       "1498     nan      nan      nan      nan      nan      nan     0.00 1,800.00   \n",
       "1499     nan      nan      nan      nan      nan      nan      nan      nan   \n",
       "\n",
       "              9        10       11       12  \n",
       "user_id                                      \n",
       "1000        0.00     0.00     0.00     0.00  \n",
       "1001         nan      nan   800.00     0.00  \n",
       "1002      400.00     0.00   800.00   600.00  \n",
       "1003        0.00     0.00     0.00     0.00  \n",
       "1004        0.00     0.00     0.00     0.00  \n",
       "...          ...      ...      ...      ...  \n",
       "1495      450.00     0.00 1,350.00     0.00  \n",
       "1496    2,400.00 2,600.00 2,000.00 1,200.00  \n",
       "1497         nan     0.00     0.00 1,000.00  \n",
       "1498    1,400.00 1,200.00      nan      nan  \n",
       "1499        0.00   600.00   600.00     0.00  \n",
       "\n",
       "[500 rows x 12 columns]"
      ]
     },
     "execution_count": 125,
     "metadata": {},
     "output_type": "execute_result"
    }
   ],
   "source": [
    "#Добавим всех пользователей, т.к. в исходной, только те, кто пользовался связью\n",
    "traffic_income = traffic_income.merge(data_users['user_id'], how='right', on='user_id').sort_values(by='user_id')\n",
    "#Установим индекс в качестве user_id для соединения с другими таблицами\n",
    "traffic_income = traffic_income.set_index('user_id')\n",
    "traffic_income"
   ]
  },
  {
   "cell_type": "markdown",
   "metadata": {},
   "source": [
    "Расчитаем выручку от абонентской платы"
   ]
  },
  {
   "cell_type": "code",
   "execution_count": 126,
   "metadata": {},
   "outputs": [],
   "source": [
    "#Определим номер месяца начала пользования тарифом и конец(если есть)\n",
    "data_users['reg_month'] = pd.DatetimeIndex(data_users['reg_date']).month\n",
    "data_users['churn_month'] = (\n",
    "    pd.DatetimeIndex(data_users['churn_date']).month \n",
    ")"
   ]
  },
  {
   "cell_type": "code",
   "execution_count": 127,
   "metadata": {},
   "outputs": [],
   "source": [
    "#Создадим сводную с месяцем регистрации и разбивкой по месяцам (в дальнейшем будем ее заполнять)\n",
    "data_users_pivot = (\n",
    "    data_users\n",
    "    .pivot_table(index='user_id', columns='reg_month', values=('reg_date'), aggfunc=('count'))\n",
    ")\n",
    "#Для абонентов, кто не прекратил пользоваться связью в текущем году, установим номер месяца больше 12-го (13)\n",
    "data_users['churn_month'] = data_users['churn_month'].fillna(13)"
   ]
  },
  {
   "cell_type": "code",
   "execution_count": 128,
   "metadata": {},
   "outputs": [],
   "source": [
    "#Добавим вспомогательные колонки для расчета стоимости абонентской платы\n",
    "data_users_pivot = data_users_pivot\\\n",
    "    .merge(data_users[['reg_month', 'churn_month', 'user_id', 'tariff']], how='left', on='user_id')\n",
    "\n",
    "data_users_pivot = data_users_pivot\\\n",
    "    .merge(data_tariffs[['tariff_name', 'rub_monthly_fee']], how='left', left_on='tariff', right_on='tariff_name')"
   ]
  },
  {
   "cell_type": "code",
   "execution_count": 129,
   "metadata": {},
   "outputs": [],
   "source": [
    "#Создадим функцию определяющую для каждого месяца аб. плату, если месяц равен или после месяца регистрации\n",
    "#и до месяца прекращения (если он есть)\n",
    "def fee_incom_compute (df):\n",
    "    for i in range(12):\n",
    "        if (i+1 >= df['reg_month']) & (i+1 <= df['churn_month']): \n",
    "            df[i+1] = df['rub_monthly_fee']\n",
    "        else:\n",
    "            df[i+1] = 0\n",
    "    return df\n",
    "        \n"
   ]
  },
  {
   "cell_type": "code",
   "execution_count": 130,
   "metadata": {},
   "outputs": [],
   "source": [
    "#Применим функцию для заполнения нашей сводной таблицы, сохраним в номую переменную\n",
    "fee_income = data_users_pivot.apply(fee_incom_compute, axis=1)\n",
    "fee_income = fee_income.drop(columns=['reg_month', 'churn_month', 'tariff', 'tariff_name', 'rub_monthly_fee'])\n",
    "fee_income = fee_income.set_index('user_id')"
   ]
  },
  {
   "cell_type": "code",
   "execution_count": 131,
   "metadata": {},
   "outputs": [],
   "source": [
    "#Т.к. абонентская плата взымается всегда,\n",
    "#а также присутствуют пользователи, которые не используют определенный вид связи\n",
    "# то для того, чтобы корректно сложить значения для каждого пользователя, заменим пропуски на нули\n",
    "total_income = fee_income.fillna(0) + traffic_income.fillna(0) + calls_income.fillna(0) + mess_income.fillna(0)\n",
    "total_income = total_income.astype(int)"
   ]
  },
  {
   "cell_type": "code",
   "execution_count": 132,
   "metadata": {},
   "outputs": [
    {
     "data": {
      "text/html": [
       "<div>\n",
       "<style scoped>\n",
       "    .dataframe tbody tr th:only-of-type {\n",
       "        vertical-align: middle;\n",
       "    }\n",
       "\n",
       "    .dataframe tbody tr th {\n",
       "        vertical-align: top;\n",
       "    }\n",
       "\n",
       "    .dataframe thead th {\n",
       "        text-align: right;\n",
       "    }\n",
       "</style>\n",
       "<table border=\"1\" class=\"dataframe\">\n",
       "  <thead>\n",
       "    <tr style=\"text-align: right;\">\n",
       "      <th></th>\n",
       "      <th>1</th>\n",
       "      <th>2</th>\n",
       "      <th>3</th>\n",
       "      <th>4</th>\n",
       "      <th>5</th>\n",
       "      <th>6</th>\n",
       "      <th>7</th>\n",
       "      <th>8</th>\n",
       "      <th>9</th>\n",
       "      <th>10</th>\n",
       "      <th>11</th>\n",
       "      <th>12</th>\n",
       "    </tr>\n",
       "    <tr>\n",
       "      <th>user_id</th>\n",
       "      <th></th>\n",
       "      <th></th>\n",
       "      <th></th>\n",
       "      <th></th>\n",
       "      <th></th>\n",
       "      <th></th>\n",
       "      <th></th>\n",
       "      <th></th>\n",
       "      <th></th>\n",
       "      <th></th>\n",
       "      <th></th>\n",
       "      <th></th>\n",
       "    </tr>\n",
       "  </thead>\n",
       "  <tbody>\n",
       "    <tr>\n",
       "      <td>1000</td>\n",
       "      <td>nan</td>\n",
       "      <td>nan</td>\n",
       "      <td>nan</td>\n",
       "      <td>nan</td>\n",
       "      <td>1,950.00</td>\n",
       "      <td>1,950.00</td>\n",
       "      <td>1,950.00</td>\n",
       "      <td>1,950.00</td>\n",
       "      <td>1,950.00</td>\n",
       "      <td>1,950.00</td>\n",
       "      <td>1,950.00</td>\n",
       "      <td>1,950.00</td>\n",
       "    </tr>\n",
       "    <tr>\n",
       "      <td>1001</td>\n",
       "      <td>nan</td>\n",
       "      <td>nan</td>\n",
       "      <td>nan</td>\n",
       "      <td>nan</td>\n",
       "      <td>nan</td>\n",
       "      <td>nan</td>\n",
       "      <td>nan</td>\n",
       "      <td>nan</td>\n",
       "      <td>nan</td>\n",
       "      <td>nan</td>\n",
       "      <td>1,350.00</td>\n",
       "      <td>550.00</td>\n",
       "    </tr>\n",
       "    <tr>\n",
       "      <td>1002</td>\n",
       "      <td>nan</td>\n",
       "      <td>nan</td>\n",
       "      <td>nan</td>\n",
       "      <td>nan</td>\n",
       "      <td>nan</td>\n",
       "      <td>550.00</td>\n",
       "      <td>1,150.00</td>\n",
       "      <td>1,550.00</td>\n",
       "      <td>950.00</td>\n",
       "      <td>550.00</td>\n",
       "      <td>1,350.00</td>\n",
       "      <td>1,150.00</td>\n",
       "    </tr>\n",
       "    <tr>\n",
       "      <td>1003</td>\n",
       "      <td>nan</td>\n",
       "      <td>nan</td>\n",
       "      <td>nan</td>\n",
       "      <td>nan</td>\n",
       "      <td>nan</td>\n",
       "      <td>nan</td>\n",
       "      <td>nan</td>\n",
       "      <td>1,950.00</td>\n",
       "      <td>1,950.00</td>\n",
       "      <td>1,950.00</td>\n",
       "      <td>1,950.00</td>\n",
       "      <td>1,950.00</td>\n",
       "    </tr>\n",
       "    <tr>\n",
       "      <td>1004</td>\n",
       "      <td>nan</td>\n",
       "      <td>nan</td>\n",
       "      <td>nan</td>\n",
       "      <td>nan</td>\n",
       "      <td>1,950.00</td>\n",
       "      <td>1,950.00</td>\n",
       "      <td>1,950.00</td>\n",
       "      <td>1,950.00</td>\n",
       "      <td>1,950.00</td>\n",
       "      <td>1,950.00</td>\n",
       "      <td>1,950.00</td>\n",
       "      <td>1,950.00</td>\n",
       "    </tr>\n",
       "    <tr>\n",
       "      <td>...</td>\n",
       "      <td>...</td>\n",
       "      <td>...</td>\n",
       "      <td>...</td>\n",
       "      <td>...</td>\n",
       "      <td>...</td>\n",
       "      <td>...</td>\n",
       "      <td>...</td>\n",
       "      <td>...</td>\n",
       "      <td>...</td>\n",
       "      <td>...</td>\n",
       "      <td>...</td>\n",
       "      <td>...</td>\n",
       "    </tr>\n",
       "    <tr>\n",
       "      <td>1495</td>\n",
       "      <td>nan</td>\n",
       "      <td>nan</td>\n",
       "      <td>nan</td>\n",
       "      <td>nan</td>\n",
       "      <td>nan</td>\n",
       "      <td>nan</td>\n",
       "      <td>nan</td>\n",
       "      <td>1,950.00</td>\n",
       "      <td>2,400.00</td>\n",
       "      <td>1,950.00</td>\n",
       "      <td>3,300.00</td>\n",
       "      <td>1,950.00</td>\n",
       "    </tr>\n",
       "    <tr>\n",
       "      <td>1496</td>\n",
       "      <td>550.00</td>\n",
       "      <td>3,432.00</td>\n",
       "      <td>2,721.00</td>\n",
       "      <td>1,813.00</td>\n",
       "      <td>2,350.00</td>\n",
       "      <td>1,715.00</td>\n",
       "      <td>2,596.00</td>\n",
       "      <td>2,431.00</td>\n",
       "      <td>2,950.00</td>\n",
       "      <td>3,150.00</td>\n",
       "      <td>3,036.00</td>\n",
       "      <td>1,807.00</td>\n",
       "    </tr>\n",
       "    <tr>\n",
       "      <td>1497</td>\n",
       "      <td>nan</td>\n",
       "      <td>nan</td>\n",
       "      <td>nan</td>\n",
       "      <td>nan</td>\n",
       "      <td>nan</td>\n",
       "      <td>nan</td>\n",
       "      <td>nan</td>\n",
       "      <td>nan</td>\n",
       "      <td>nan</td>\n",
       "      <td>550.00</td>\n",
       "      <td>550.00</td>\n",
       "      <td>1,685.00</td>\n",
       "    </tr>\n",
       "    <tr>\n",
       "      <td>1498</td>\n",
       "      <td>nan</td>\n",
       "      <td>nan</td>\n",
       "      <td>nan</td>\n",
       "      <td>nan</td>\n",
       "      <td>nan</td>\n",
       "      <td>nan</td>\n",
       "      <td>550.00</td>\n",
       "      <td>2,386.00</td>\n",
       "      <td>1,950.00</td>\n",
       "      <td>1,750.00</td>\n",
       "      <td>nan</td>\n",
       "      <td>nan</td>\n",
       "    </tr>\n",
       "    <tr>\n",
       "      <td>1499</td>\n",
       "      <td>nan</td>\n",
       "      <td>nan</td>\n",
       "      <td>nan</td>\n",
       "      <td>nan</td>\n",
       "      <td>nan</td>\n",
       "      <td>nan</td>\n",
       "      <td>nan</td>\n",
       "      <td>nan</td>\n",
       "      <td>550.00</td>\n",
       "      <td>1,150.00</td>\n",
       "      <td>1,513.00</td>\n",
       "      <td>598.00</td>\n",
       "    </tr>\n",
       "  </tbody>\n",
       "</table>\n",
       "<p>500 rows × 12 columns</p>\n",
       "</div>"
      ],
      "text/plain": [
       "            1        2        3        4        5        6        7        8   \\\n",
       "user_id                                                                         \n",
       "1000       nan      nan      nan      nan 1,950.00 1,950.00 1,950.00 1,950.00   \n",
       "1001       nan      nan      nan      nan      nan      nan      nan      nan   \n",
       "1002       nan      nan      nan      nan      nan   550.00 1,150.00 1,550.00   \n",
       "1003       nan      nan      nan      nan      nan      nan      nan 1,950.00   \n",
       "1004       nan      nan      nan      nan 1,950.00 1,950.00 1,950.00 1,950.00   \n",
       "...        ...      ...      ...      ...      ...      ...      ...      ...   \n",
       "1495       nan      nan      nan      nan      nan      nan      nan 1,950.00   \n",
       "1496    550.00 3,432.00 2,721.00 1,813.00 2,350.00 1,715.00 2,596.00 2,431.00   \n",
       "1497       nan      nan      nan      nan      nan      nan      nan      nan   \n",
       "1498       nan      nan      nan      nan      nan      nan   550.00 2,386.00   \n",
       "1499       nan      nan      nan      nan      nan      nan      nan      nan   \n",
       "\n",
       "              9        10       11       12  \n",
       "user_id                                      \n",
       "1000    1,950.00 1,950.00 1,950.00 1,950.00  \n",
       "1001         nan      nan 1,350.00   550.00  \n",
       "1002      950.00   550.00 1,350.00 1,150.00  \n",
       "1003    1,950.00 1,950.00 1,950.00 1,950.00  \n",
       "1004    1,950.00 1,950.00 1,950.00 1,950.00  \n",
       "...          ...      ...      ...      ...  \n",
       "1495    2,400.00 1,950.00 3,300.00 1,950.00  \n",
       "1496    2,950.00 3,150.00 3,036.00 1,807.00  \n",
       "1497         nan   550.00   550.00 1,685.00  \n",
       "1498    1,950.00 1,750.00      nan      nan  \n",
       "1499      550.00 1,150.00 1,513.00   598.00  \n",
       "\n",
       "[500 rows x 12 columns]"
      ]
     },
     "execution_count": 132,
     "metadata": {},
     "output_type": "execute_result"
    }
   ],
   "source": [
    "#Вернем значения Nan для месяцев где пользователь не использовал связь\n",
    "for x in total_income.columns:\n",
    "    total_income.loc[total_income[x] == 0, x] = np.nan\n",
    "total_income"
   ]
  },
  {
   "cell_type": "markdown",
   "metadata": {},
   "source": [
    "### Вывод\n",
    "На данном этапе подготовили данные для расчетов в дальнейших шагах\n",
    "1. Проверили наличие ошибок:\n",
    " + критических ошибок не обнаружено\n",
    " + нулевые значения принято исключить, т.к. они не несут информации о стоимости звонка(Мб) и использовании лимита, отведенного на тарифе, скорее всего это пропущенные вызовы\n",
    " + Проверили корректность дат регистрации и совершенных действий - все действия пользователя были после даты регистрации\n",
    "\n",
    "2. Определили ежемесечную выручку от каждого пользователя и сохранили в 5-ти переменных:\n",
    " + calls_income - выручка от звонков\n",
    " + mess_income - выручка от смс\n",
    " + traffic_income - выручка от использования интернета\n",
    " + fee_income - выручка от абонентской платы\n",
    " + total_income - общая выручка"
   ]
  },
  {
   "cell_type": "markdown",
   "metadata": {},
   "source": [
    "## 3. Проанализируем данные"
   ]
  },
  {
   "cell_type": "markdown",
   "metadata": {},
   "source": [
    "#### 3.1 Расчитаем среднеемесяцное значения для каждого абонента\n",
    "Использование минут разговора"
   ]
  },
  {
   "cell_type": "code",
   "execution_count": 133,
   "metadata": {},
   "outputs": [],
   "source": [
    "#Подготовим данные\n",
    "pivot_sum_of_minutes_by_month = (\n",
    "    pivot_sum_of_minutes_by_month.drop(columns=['tariff', 'tariff_name', 'minutes_included', 'rub_per_minute'])\n",
    ")\n",
    "#Добавим всех абонентов, даже тех, кто не пользуется связью\n",
    "pivot_sum_of_minutes_by_month = (\n",
    "    pivot_sum_of_minutes_by_month.merge(data_users['user_id'], how='right', on='user_id').sort_values(by='user_id')\n",
    ")\n",
    "pivot_sum_of_minutes_by_month = pivot_sum_of_minutes_by_month.set_index('user_id')"
   ]
  },
  {
   "cell_type": "code",
   "execution_count": 134,
   "metadata": {},
   "outputs": [],
   "source": [
    "#Расчитаем среднее для каждого пользователя в течение года\n",
    "cols = range(1, 13)\n",
    "pivot_sum_of_minutes_by_month['minut_month_mean'] = pivot_sum_of_minutes_by_month[cols].mean(axis=1)"
   ]
  },
  {
   "cell_type": "markdown",
   "metadata": {},
   "source": [
    "Расчитаем среднеемесячное сообщений для каждого абонента"
   ]
  },
  {
   "cell_type": "code",
   "execution_count": 135,
   "metadata": {},
   "outputs": [],
   "source": [
    "#Подготовим данные\n",
    "pivot_number_of_masseges_by_month = (\n",
    "    pivot_number_of_masseges_by_month.drop(columns=['tariff', 'tariff_name', 'messages_included', 'rub_per_message'])\n",
    ")\n",
    "#Добавим всех абонентов, даже тех, кто не пользуется связью\n",
    "pivot_number_of_masseges_by_month = (\n",
    "    pivot_number_of_masseges_by_month.merge(data_users['user_id'], how='right', on='user_id').sort_values(by='user_id')\n",
    ")\n",
    "pivot_number_of_masseges_by_month = pivot_number_of_masseges_by_month.set_index('user_id')"
   ]
  },
  {
   "cell_type": "code",
   "execution_count": 136,
   "metadata": {},
   "outputs": [],
   "source": [
    "#Расчитаем среднее для каждого пользователя в течение года\n",
    "cols = range(1, 13)\n",
    "pivot_number_of_masseges_by_month['mess_month_mean'] = pivot_number_of_masseges_by_month[cols].mean(axis=1)"
   ]
  },
  {
   "cell_type": "markdown",
   "metadata": {},
   "source": [
    "Расчитаем среднеемесячное количество Мб траффика для каждого абонента"
   ]
  },
  {
   "cell_type": "code",
   "execution_count": 137,
   "metadata": {},
   "outputs": [],
   "source": [
    "#Подготовим данные\n",
    "pivot_number_of_traffic_by_month = (\n",
    "    pivot_number_of_traffic_by_month.drop(columns=['tariff', 'tariff_name', 'mb_per_month_included', 'rub_per_gb'])\n",
    ")\n",
    "#Добавим всех абонентов, даже тех, кто не пользуется связью\n",
    "pivot_number_of_traffic_by_month = (\n",
    "    pivot_number_of_traffic_by_month.merge(data_users['user_id'], how='right', on='user_id').sort_values(by='user_id')\n",
    ")\n",
    "pivot_number_of_traffic_by_month = pivot_number_of_traffic_by_month.set_index('user_id')"
   ]
  },
  {
   "cell_type": "code",
   "execution_count": 138,
   "metadata": {},
   "outputs": [],
   "source": [
    "#Расчитаем среднее для каждого пользователя в течение года\n",
    "cols = range(1, 13)\n",
    "pivot_number_of_traffic_by_month['traff_month_mean'] = pivot_number_of_traffic_by_month[cols].mean(axis=1)"
   ]
  },
  {
   "cell_type": "markdown",
   "metadata": {},
   "source": [
    "Создадим одну таблицу со столбцами в которых указаны средние значения для каждого пользователя"
   ]
  },
  {
   "cell_type": "code",
   "execution_count": 139,
   "metadata": {},
   "outputs": [],
   "source": [
    "#добавим колонки с user_id и наименованием тарифа\n",
    "data_monthly_mean = pivot_sum_of_minutes_by_month.merge(data_users[['user_id', 'tariff']], on='user_id')\n",
    "#отбросим колонки с распределением по месяцам\n",
    "data_monthly_mean = data_monthly_mean.drop(columns=(range(1,13)))"
   ]
  },
  {
   "cell_type": "code",
   "execution_count": 140,
   "metadata": {},
   "outputs": [],
   "source": [
    "#добавим колонки со средними значениями для трафика и смс\n",
    "data_monthly_mean = data_monthly_mean\\\n",
    "    .merge(pivot_number_of_traffic_by_month['traff_month_mean'], on='user_id')\\\n",
    "    .merge(pivot_number_of_masseges_by_month['mess_month_mean'], on='user_id')"
   ]
  },
  {
   "cell_type": "code",
   "execution_count": 141,
   "metadata": {},
   "outputs": [
    {
     "data": {
      "text/html": [
       "<div>\n",
       "<style scoped>\n",
       "    .dataframe tbody tr th:only-of-type {\n",
       "        vertical-align: middle;\n",
       "    }\n",
       "\n",
       "    .dataframe tbody tr th {\n",
       "        vertical-align: top;\n",
       "    }\n",
       "\n",
       "    .dataframe thead th {\n",
       "        text-align: right;\n",
       "    }\n",
       "</style>\n",
       "<table border=\"1\" class=\"dataframe\">\n",
       "  <thead>\n",
       "    <tr style=\"text-align: right;\">\n",
       "      <th></th>\n",
       "      <th>user_id</th>\n",
       "      <th>tariff</th>\n",
       "      <th>minut_month_mean</th>\n",
       "      <th>traff_month_mean</th>\n",
       "      <th>mess_month_mean</th>\n",
       "    </tr>\n",
       "  </thead>\n",
       "  <tbody>\n",
       "    <tr>\n",
       "      <td>0</td>\n",
       "      <td>1000</td>\n",
       "      <td>ultra</td>\n",
       "      <td>320.75</td>\n",
       "      <td>13,436.50</td>\n",
       "      <td>62.00</td>\n",
       "    </tr>\n",
       "    <tr>\n",
       "      <td>1</td>\n",
       "      <td>1001</td>\n",
       "      <td>smart</td>\n",
       "      <td>422.00</td>\n",
       "      <td>16,252.50</td>\n",
       "      <td>nan</td>\n",
       "    </tr>\n",
       "    <tr>\n",
       "      <td>2</td>\n",
       "      <td>1002</td>\n",
       "      <td>smart</td>\n",
       "      <td>216.71</td>\n",
       "      <td>16,597.57</td>\n",
       "      <td>10.00</td>\n",
       "    </tr>\n",
       "    <tr>\n",
       "      <td>3</td>\n",
       "      <td>1003</td>\n",
       "      <td>ultra</td>\n",
       "      <td>764.40</td>\n",
       "      <td>11,465.80</td>\n",
       "      <td>76.00</td>\n",
       "    </tr>\n",
       "    <tr>\n",
       "      <td>4</td>\n",
       "      <td>1004</td>\n",
       "      <td>ultra</td>\n",
       "      <td>123.38</td>\n",
       "      <td>18,646.50</td>\n",
       "      <td>149.00</td>\n",
       "    </tr>\n",
       "    <tr>\n",
       "      <td>...</td>\n",
       "      <td>...</td>\n",
       "      <td>...</td>\n",
       "      <td>...</td>\n",
       "      <td>...</td>\n",
       "      <td>...</td>\n",
       "    </tr>\n",
       "    <tr>\n",
       "      <td>495</td>\n",
       "      <td>1495</td>\n",
       "      <td>ultra</td>\n",
       "      <td>784.00</td>\n",
       "      <td>25,507.20</td>\n",
       "      <td>68.00</td>\n",
       "    </tr>\n",
       "    <tr>\n",
       "      <td>496</td>\n",
       "      <td>1496</td>\n",
       "      <td>smart</td>\n",
       "      <td>498.67</td>\n",
       "      <td>22,605.75</td>\n",
       "      <td>39.00</td>\n",
       "    </tr>\n",
       "    <tr>\n",
       "      <td>497</td>\n",
       "      <td>1497</td>\n",
       "      <td>smart</td>\n",
       "      <td>468.67</td>\n",
       "      <td>15,208.67</td>\n",
       "      <td>17.00</td>\n",
       "    </tr>\n",
       "    <tr>\n",
       "      <td>498</td>\n",
       "      <td>1498</td>\n",
       "      <td>smart</td>\n",
       "      <td>323.25</td>\n",
       "      <td>18,631.50</td>\n",
       "      <td>42.00</td>\n",
       "    </tr>\n",
       "    <tr>\n",
       "      <td>499</td>\n",
       "      <td>1499</td>\n",
       "      <td>smart</td>\n",
       "      <td>405.75</td>\n",
       "      <td>12,679.50</td>\n",
       "      <td>46.00</td>\n",
       "    </tr>\n",
       "  </tbody>\n",
       "</table>\n",
       "<p>500 rows × 5 columns</p>\n",
       "</div>"
      ],
      "text/plain": [
       "     user_id tariff  minut_month_mean  traff_month_mean  mess_month_mean\n",
       "0       1000  ultra            320.75         13,436.50            62.00\n",
       "1       1001  smart            422.00         16,252.50              nan\n",
       "2       1002  smart            216.71         16,597.57            10.00\n",
       "3       1003  ultra            764.40         11,465.80            76.00\n",
       "4       1004  ultra            123.38         18,646.50           149.00\n",
       "..       ...    ...               ...               ...              ...\n",
       "495     1495  ultra            784.00         25,507.20            68.00\n",
       "496     1496  smart            498.67         22,605.75            39.00\n",
       "497     1497  smart            468.67         15,208.67            17.00\n",
       "498     1498  smart            323.25         18,631.50            42.00\n",
       "499     1499  smart            405.75         12,679.50            46.00\n",
       "\n",
       "[500 rows x 5 columns]"
      ]
     },
     "execution_count": 141,
     "metadata": {},
     "output_type": "execute_result"
    }
   ],
   "source": [
    "#Изменим порядок, для удобного чтения\n",
    "data_monthly_mean = data_monthly_mean[['user_id', 'tariff',\n",
    "                                      'minut_month_mean', 'traff_month_mean',\n",
    "                                        'mess_month_mean']]\n",
    "data_monthly_mean"
   ]
  },
  {
   "cell_type": "markdown",
   "metadata": {},
   "source": [
    "Расчитаем среднеемесячную выручку для каждого абонента"
   ]
  },
  {
   "cell_type": "code",
   "execution_count": 142,
   "metadata": {},
   "outputs": [],
   "source": [
    "#Расчитаем среднее для каждого пользователя в течение года\n",
    "total_income['monthly_income_mean'] = total_income.mean(axis=1)\n",
    "\n",
    "#Добавим колонку со средней выручкой в имеющуюся таблицу data_monthly_mean\n",
    "data_monthly_mean = data_monthly_mean.join(total_income.reset_index()['monthly_income_mean'])"
   ]
  },
  {
   "cell_type": "markdown",
   "metadata": {},
   "source": [
    "Получили выборки по двум тарифам с среднемесячным использованием услуг каждым пользователем"
   ]
  },
  {
   "cell_type": "code",
   "execution_count": 143,
   "metadata": {},
   "outputs": [],
   "source": [
    "data_monthly_mean_smart = data_monthly_mean.loc[data_monthly_mean['tariff'] == 'smart']\n",
    "data_monthly_mean_ultra = data_monthly_mean.loc[data_monthly_mean['tariff'] == 'ultra']"
   ]
  },
  {
   "cell_type": "markdown",
   "metadata": {},
   "source": [
    "#### 3.2. Посчитайте среднее количество, дисперсию и стандартное отклонение"
   ]
  },
  {
   "cell_type": "code",
   "execution_count": 144,
   "metadata": {},
   "outputs": [],
   "source": [
    "#Создадим словарь с колонками и их описанием\n",
    "cols_dict={'minut_month_mean' : 'ежемесячное среднее количество минут',\n",
    "           'traff_month_mean' : 'ежемесячное среднее количество Мегабайт',\n",
    "           'mess_month_mean' : 'ежемесячное среднее количество смс', \n",
    "           'monthly_income_mean' : 'средняя ежемесячная выручка'}"
   ]
  },
  {
   "cell_type": "code",
   "execution_count": 145,
   "metadata": {},
   "outputs": [
    {
     "data": {
      "text/html": [
       "<style  type=\"text/css\" >\n",
       "</style><table id=\"T_425c461e_be48_11ea_88e3_02420a393f02\" ><caption>Среднее, стандартное отклонение и дисперсия для каждой из величин, тарифа \"Смарт\"</caption><thead>    <tr>        <th class=\"blank level0\" ></th>        <th class=\"col_heading level0 col0\" >minut_month_smart</th>        <th class=\"col_heading level0 col1\" >traff_month_smart</th>        <th class=\"col_heading level0 col2\" >mess_month_smart</th>        <th class=\"col_heading level0 col3\" >monthly_income_smart</th>    </tr></thead><tbody>\n",
       "                <tr>\n",
       "                        <th id=\"T_425c461e_be48_11ea_88e3_02420a393f02level0_row0\" class=\"row_heading level0 row0\" >mean</th>\n",
       "                        <td id=\"T_425c461e_be48_11ea_88e3_02420a393f02row0_col0\" class=\"data row0 col0\" >420.848</td>\n",
       "                        <td id=\"T_425c461e_be48_11ea_88e3_02420a393f02row0_col1\" class=\"data row0 col1\" >16237</td>\n",
       "                        <td id=\"T_425c461e_be48_11ea_88e3_02420a393f02row0_col2\" class=\"data row0 col2\" >37.5756</td>\n",
       "                        <td id=\"T_425c461e_be48_11ea_88e3_02420a393f02row0_col3\" class=\"data row0 col3\" >1327.51</td>\n",
       "            </tr>\n",
       "            <tr>\n",
       "                        <th id=\"T_425c461e_be48_11ea_88e3_02420a393f02level0_row1\" class=\"row_heading level0 row1\" >std</th>\n",
       "                        <td id=\"T_425c461e_be48_11ea_88e3_02420a393f02row1_col0\" class=\"data row1 col0\" >143.451</td>\n",
       "                        <td id=\"T_425c461e_be48_11ea_88e3_02420a393f02row1_col1\" class=\"data row1 col1\" >3627.14</td>\n",
       "                        <td id=\"T_425c461e_be48_11ea_88e3_02420a393f02row1_col2\" class=\"data row1 col2\" >24.8497</td>\n",
       "                        <td id=\"T_425c461e_be48_11ea_88e3_02420a393f02row1_col3\" class=\"data row1 col3\" >607.412</td>\n",
       "            </tr>\n",
       "            <tr>\n",
       "                        <th id=\"T_425c461e_be48_11ea_88e3_02420a393f02level0_row2\" class=\"row_heading level0 row2\" >var</th>\n",
       "                        <td id=\"T_425c461e_be48_11ea_88e3_02420a393f02row2_col0\" class=\"data row2 col0\" >20519.3</td>\n",
       "                        <td id=\"T_425c461e_be48_11ea_88e3_02420a393f02row2_col1\" class=\"data row2 col1\" >1.31185e+07</td>\n",
       "                        <td id=\"T_425c461e_be48_11ea_88e3_02420a393f02row2_col2\" class=\"data row2 col2\" >615.465</td>\n",
       "                        <td id=\"T_425c461e_be48_11ea_88e3_02420a393f02row2_col3\" class=\"data row2 col3\" >367898</td>\n",
       "            </tr>\n",
       "    </tbody></table>"
      ],
      "text/plain": [
       "<pandas.io.formats.style.Styler at 0x7f6ec2e81750>"
      ]
     },
     "execution_count": 145,
     "metadata": {},
     "output_type": "execute_result"
    }
   ],
   "source": [
    "#Посчитаем среднее, дисперсию и стандартное для тарифа Смарт\n",
    "metrics_smart_step3 = data_monthly_mean_smart[cols_dict.keys()].describe().loc[['mean', 'std']]\n",
    "metrics_smart_step3.loc['var'] = (\n",
    "    [np.var(data_monthly_mean_smart[x]) for x in data_monthly_mean_smart[cols_dict.keys()].columns]\n",
    ")\n",
    "metrics_smart_step3.rename(columns=lambda x: x.replace('_mean', '_smart'), inplace=True)\n",
    "\n",
    "metrics_smart_step3\\\n",
    "    .style\\\n",
    "    .set_caption('Среднее, стандартное отклонение и дисперсия для каждой из величин, тарифа \"Смарт\"')"
   ]
  },
  {
   "cell_type": "markdown",
   "metadata": {},
   "source": [
    "Как видно, очень большие значения для колонки `traff_month_ultra` - не удобны для чтения, переведем Мегабайты в Гигабайты"
   ]
  },
  {
   "cell_type": "code",
   "execution_count": 146,
   "metadata": {},
   "outputs": [],
   "source": [
    "#Изменим название в словаре\n",
    "cols_dict['traff_month_mean'] = 'ежемесячное среднее количество Гигабайт'\n",
    "\n",
    "#Изменим значения Мб на Гб в наших таблицах\n",
    "data_monthly_mean_smart['traff_month_mean'] = data_monthly_mean_smart['traff_month_mean']/1024\n",
    "data_monthly_mean_ultra['traff_month_mean'] = data_monthly_mean_ultra['traff_month_mean']/1024"
   ]
  },
  {
   "cell_type": "code",
   "execution_count": 147,
   "metadata": {},
   "outputs": [
    {
     "data": {
      "text/html": [
       "<style  type=\"text/css\" >\n",
       "</style><table id=\"T_42685378_be48_11ea_88e3_02420a393f02\" ><caption>Среднее, стандартное отклонение и дисперсия для каждой из величин, тарифа \"Смарт\"</caption><thead>    <tr>        <th class=\"blank level0\" ></th>        <th class=\"col_heading level0 col0\" >minut_month_smart</th>        <th class=\"col_heading level0 col1\" >traff_month_smart</th>        <th class=\"col_heading level0 col2\" >mess_month_smart</th>        <th class=\"col_heading level0 col3\" >monthly_income_smart</th>    </tr></thead><tbody>\n",
       "                <tr>\n",
       "                        <th id=\"T_42685378_be48_11ea_88e3_02420a393f02level0_row0\" class=\"row_heading level0 row0\" >mean</th>\n",
       "                        <td id=\"T_42685378_be48_11ea_88e3_02420a393f02row0_col0\" class=\"data row0 col0\" >420.848</td>\n",
       "                        <td id=\"T_42685378_be48_11ea_88e3_02420a393f02row0_col1\" class=\"data row0 col1\" >15.8564</td>\n",
       "                        <td id=\"T_42685378_be48_11ea_88e3_02420a393f02row0_col2\" class=\"data row0 col2\" >37.5756</td>\n",
       "                        <td id=\"T_42685378_be48_11ea_88e3_02420a393f02row0_col3\" class=\"data row0 col3\" >1327.51</td>\n",
       "            </tr>\n",
       "            <tr>\n",
       "                        <th id=\"T_42685378_be48_11ea_88e3_02420a393f02level0_row1\" class=\"row_heading level0 row1\" >std</th>\n",
       "                        <td id=\"T_42685378_be48_11ea_88e3_02420a393f02row1_col0\" class=\"data row1 col0\" >143.451</td>\n",
       "                        <td id=\"T_42685378_be48_11ea_88e3_02420a393f02row1_col1\" class=\"data row1 col1\" >3.54212</td>\n",
       "                        <td id=\"T_42685378_be48_11ea_88e3_02420a393f02row1_col2\" class=\"data row1 col2\" >24.8497</td>\n",
       "                        <td id=\"T_42685378_be48_11ea_88e3_02420a393f02row1_col3\" class=\"data row1 col3\" >607.412</td>\n",
       "            </tr>\n",
       "            <tr>\n",
       "                        <th id=\"T_42685378_be48_11ea_88e3_02420a393f02level0_row2\" class=\"row_heading level0 row2\" >var</th>\n",
       "                        <td id=\"T_42685378_be48_11ea_88e3_02420a393f02row2_col0\" class=\"data row2 col0\" >20519.3</td>\n",
       "                        <td id=\"T_42685378_be48_11ea_88e3_02420a393f02row2_col1\" class=\"data row2 col1\" >12.5108</td>\n",
       "                        <td id=\"T_42685378_be48_11ea_88e3_02420a393f02row2_col2\" class=\"data row2 col2\" >615.465</td>\n",
       "                        <td id=\"T_42685378_be48_11ea_88e3_02420a393f02row2_col3\" class=\"data row2 col3\" >367898</td>\n",
       "            </tr>\n",
       "    </tbody></table>"
      ],
      "text/plain": [
       "<pandas.io.formats.style.Styler at 0x7f6ebe9a3a90>"
      ]
     },
     "execution_count": 147,
     "metadata": {},
     "output_type": "execute_result"
    }
   ],
   "source": [
    "#пересчитаем\n",
    "metrics_smart_step3 = data_monthly_mean_smart[cols_dict.keys()].describe().loc[['mean', 'std']]\n",
    "metrics_smart_step3.loc['var'] = (\n",
    "    [np.var(data_monthly_mean_smart[x]) for x in data_monthly_mean_smart[cols_dict.keys()].columns]\n",
    ")\n",
    "metrics_smart_step3.rename(columns=lambda x: x.replace('_mean', '_smart'), inplace=True)\n",
    "\n",
    "metrics_smart_step3\\\n",
    "    .style\\\n",
    "    .set_caption('Среднее, стандартное отклонение и дисперсия для каждой из величин, тарифа \"Смарт\"')"
   ]
  },
  {
   "cell_type": "code",
   "execution_count": 148,
   "metadata": {},
   "outputs": [
    {
     "data": {
      "text/html": [
       "<style  type=\"text/css\" >\n",
       "</style><table id=\"T_426e80a4_be48_11ea_88e3_02420a393f02\" ><caption>Среднее, стандартное отклонение и дисперсия для каждой из величин, тарифа \"Ультра\"</caption><thead>    <tr>        <th class=\"blank level0\" ></th>        <th class=\"col_heading level0 col0\" >minut_month_ultra</th>        <th class=\"col_heading level0 col1\" >traff_month_ultra</th>        <th class=\"col_heading level0 col2\" >mess_month_ultra</th>        <th class=\"col_heading level0 col3\" >monthly_income_ultra</th>    </tr></thead><tbody>\n",
       "                <tr>\n",
       "                        <th id=\"T_426e80a4_be48_11ea_88e3_02420a393f02level0_row0\" class=\"row_heading level0 row0\" >mean</th>\n",
       "                        <td id=\"T_426e80a4_be48_11ea_88e3_02420a393f02row0_col0\" class=\"data row0 col0\" >546.998</td>\n",
       "                        <td id=\"T_426e80a4_be48_11ea_88e3_02420a393f02row0_col1\" class=\"data row0 col1\" >19.2993</td>\n",
       "                        <td id=\"T_426e80a4_be48_11ea_88e3_02420a393f02row0_col2\" class=\"data row0 col2\" >64.5558</td>\n",
       "                        <td id=\"T_426e80a4_be48_11ea_88e3_02420a393f02row0_col3\" class=\"data row0 col3\" >2086.5</td>\n",
       "            </tr>\n",
       "            <tr>\n",
       "                        <th id=\"T_426e80a4_be48_11ea_88e3_02420a393f02level0_row1\" class=\"row_heading level0 row1\" >std</th>\n",
       "                        <td id=\"T_426e80a4_be48_11ea_88e3_02420a393f02row1_col0\" class=\"data row1 col0\" >268.09</td>\n",
       "                        <td id=\"T_426e80a4_be48_11ea_88e3_02420a393f02row1_col1\" class=\"data row1 col1\" >7.98573</td>\n",
       "                        <td id=\"T_426e80a4_be48_11ea_88e3_02420a393f02row1_col2\" class=\"data row1 col2\" >43.3906</td>\n",
       "                        <td id=\"T_426e80a4_be48_11ea_88e3_02420a393f02row1_col3\" class=\"data row1 col3\" >300.041</td>\n",
       "            </tr>\n",
       "            <tr>\n",
       "                        <th id=\"T_426e80a4_be48_11ea_88e3_02420a393f02level0_row2\" class=\"row_heading level0 row2\" >var</th>\n",
       "                        <td id=\"T_426e80a4_be48_11ea_88e3_02420a393f02row2_col0\" class=\"data row2 col0\" >71369.5</td>\n",
       "                        <td id=\"T_426e80a4_be48_11ea_88e3_02420a393f02row2_col1\" class=\"data row2 col1\" >63.338</td>\n",
       "                        <td id=\"T_426e80a4_be48_11ea_88e3_02420a393f02row2_col2\" class=\"data row2 col2\" >1867.56</td>\n",
       "                        <td id=\"T_426e80a4_be48_11ea_88e3_02420a393f02row2_col3\" class=\"data row2 col3\" >89420.2</td>\n",
       "            </tr>\n",
       "    </tbody></table>"
      ],
      "text/plain": [
       "<pandas.io.formats.style.Styler at 0x7f6ec2454590>"
      ]
     },
     "execution_count": 148,
     "metadata": {},
     "output_type": "execute_result"
    }
   ],
   "source": [
    "#Для тарифа Ультра\n",
    "\n",
    "metrics_ultra_step3 = data_monthly_mean_ultra[cols_dict.keys()].describe().loc[['mean', 'std']]\n",
    "metrics_ultra_step3.loc['var'] = (\n",
    "    [np.var(data_monthly_mean_ultra[x]) for x in data_monthly_mean_ultra[cols_dict.keys()].columns]\n",
    ")\n",
    "metrics_ultra_step3.rename(columns=lambda x: x.replace('_mean', '_ultra'), inplace=True)\n",
    "\n",
    "metrics_ultra_step3\\\n",
    "    .style\\\n",
    "    .set_caption('Среднее, стандартное отклонение и дисперсия для каждой из величин, тарифа \"Ультра\"')"
   ]
  },
  {
   "cell_type": "code",
   "execution_count": 149,
   "metadata": {},
   "outputs": [
    {
     "data": {
      "text/html": [
       "<style  type=\"text/css\" >\n",
       "</style><table id=\"T_426ff0ce_be48_11ea_88e3_02420a393f02\" ><caption>Среднее, стандартное отклонение и дисперсия для каждой из величин, тарифа \"Смарт\"</caption><thead>    <tr>        <th class=\"blank level0\" ></th>        <th class=\"col_heading level0 col0\" >minut_month_smart</th>        <th class=\"col_heading level0 col1\" >traff_month_smart</th>        <th class=\"col_heading level0 col2\" >mess_month_smart</th>        <th class=\"col_heading level0 col3\" >monthly_income_smart</th>    </tr></thead><tbody>\n",
       "                <tr>\n",
       "                        <th id=\"T_426ff0ce_be48_11ea_88e3_02420a393f02level0_row0\" class=\"row_heading level0 row0\" >mean</th>\n",
       "                        <td id=\"T_426ff0ce_be48_11ea_88e3_02420a393f02row0_col0\" class=\"data row0 col0\" >420.848</td>\n",
       "                        <td id=\"T_426ff0ce_be48_11ea_88e3_02420a393f02row0_col1\" class=\"data row0 col1\" >15.8564</td>\n",
       "                        <td id=\"T_426ff0ce_be48_11ea_88e3_02420a393f02row0_col2\" class=\"data row0 col2\" >37.5756</td>\n",
       "                        <td id=\"T_426ff0ce_be48_11ea_88e3_02420a393f02row0_col3\" class=\"data row0 col3\" >1327.51</td>\n",
       "            </tr>\n",
       "            <tr>\n",
       "                        <th id=\"T_426ff0ce_be48_11ea_88e3_02420a393f02level0_row1\" class=\"row_heading level0 row1\" >std</th>\n",
       "                        <td id=\"T_426ff0ce_be48_11ea_88e3_02420a393f02row1_col0\" class=\"data row1 col0\" >143.451</td>\n",
       "                        <td id=\"T_426ff0ce_be48_11ea_88e3_02420a393f02row1_col1\" class=\"data row1 col1\" >3.54212</td>\n",
       "                        <td id=\"T_426ff0ce_be48_11ea_88e3_02420a393f02row1_col2\" class=\"data row1 col2\" >24.8497</td>\n",
       "                        <td id=\"T_426ff0ce_be48_11ea_88e3_02420a393f02row1_col3\" class=\"data row1 col3\" >607.412</td>\n",
       "            </tr>\n",
       "            <tr>\n",
       "                        <th id=\"T_426ff0ce_be48_11ea_88e3_02420a393f02level0_row2\" class=\"row_heading level0 row2\" >var</th>\n",
       "                        <td id=\"T_426ff0ce_be48_11ea_88e3_02420a393f02row2_col0\" class=\"data row2 col0\" >20519.3</td>\n",
       "                        <td id=\"T_426ff0ce_be48_11ea_88e3_02420a393f02row2_col1\" class=\"data row2 col1\" >12.5108</td>\n",
       "                        <td id=\"T_426ff0ce_be48_11ea_88e3_02420a393f02row2_col2\" class=\"data row2 col2\" >615.465</td>\n",
       "                        <td id=\"T_426ff0ce_be48_11ea_88e3_02420a393f02row2_col3\" class=\"data row2 col3\" >367898</td>\n",
       "            </tr>\n",
       "    </tbody></table>"
      ],
      "text/plain": [
       "<pandas.io.formats.style.Styler at 0x7f6ec2601a50>"
      ]
     },
     "execution_count": 149,
     "metadata": {},
     "output_type": "execute_result"
    }
   ],
   "source": [
    "metrics_smart_step3\\\n",
    "    .style\\\n",
    "    .set_caption('Среднее, стандартное отклонение и дисперсия для каждой из величин, тарифа \"Смарт\"')\n"
   ]
  },
  {
   "cell_type": "markdown",
   "metadata": {},
   "source": [
    "#### Вывод:\n",
    "1. В среднем на тарифе Ультра пользуются среднемесячное значение использованных минут больше почти на 30%\n",
    "2. На 20% больше используют интернет\n",
    "3. и почти в 2 раза больше пользуются смс\n",
    "4. Стандартные отклонения на тарифе Смарт меньше почти в 2 раза, чем на Ультра, говорит о том, значения средние значения для тарифа Смарт более однородные, больший разброс средних значений соответствует тарифу Ультра.\n",
    "5. Для значений ежемесячного дохода наблюдается следующая картина:\n",
    " + В среднее показывает то, что пользователи тарифа Смарт платят меньше чем пользователи тарифа Ультра\n",
    " + Однако тарифу Смарт соответствует большая дисперсия и стандартное отклонение, получается, что:\n",
    "    + верхняя граница платежей для тарифа смарт соответствует примерно mean + 3*std = 3149.746;\n",
    "    + а для тарифа Ультра mean + 3*std = 2986.623\n",
    "    + получается что некоторые пользователи на Смарте платят больше чем пользователи Ультра.\n",
    "    + P.S. если правильно понял из теории тренажера, в такой ситуации необходимо проверить статистическим тестом гипотезы о равенстве или неравенстве средней выручки на тарифах, т.е. однозначно по среднему с такой большой дисперсией судить будет не корректно."
   ]
  },
  {
   "cell_type": "markdown",
   "metadata": {},
   "source": [
    "##### Распределение для тарифа Смарт"
   ]
  },
  {
   "cell_type": "code",
   "execution_count": 150,
   "metadata": {
    "scrolled": false
   },
   "outputs": [],
   "source": [
    "def hist_for_tarrif(df):\n",
    "    for key in cols_dict.keys():\n",
    "        data_for_hist = df.loc[df[key].notna(), key]\n",
    "        sns.distplot(data_for_hist)\n",
    "        plt.title('Распределение величины: {}'.format(cols_dict.get(key)))\n",
    "        plt.show()"
   ]
  },
  {
   "cell_type": "code",
   "execution_count": 151,
   "metadata": {},
   "outputs": [
    {
     "data": {
      "image/png": "[encoded data removed]",
      "text/plain": [
       "<Figure size 576x360 with 1 Axes>"
      ]
     },
     "metadata": {
      "needs_background": "light"
     },
     "output_type": "display_data"
    },
    {
     "data": {
      "image/png": "[encoded data removed]",
      "text/plain": [
       "<Figure size 576x360 with 1 Axes>"
      ]
     },
     "metadata": {
      "needs_background": "light"
     },
     "output_type": "display_data"
    },
    {
     "data": {
      "image/png": "[encoded data removed]",
      "text/plain": [
       "<Figure size 576x360 with 1 Axes>"
      ]
     },
     "metadata": {
      "needs_background": "light"
     },
     "output_type": "display_data"
    },
    {
     "data": {
      "image/png": "[encoded data removed]",
      "text/plain": [
       "<Figure size 576x360 with 1 Axes>"
      ]
     },
     "metadata": {
      "needs_background": "light"
     },
     "output_type": "display_data"
    }
   ],
   "source": [
    "hist_for_tarrif(data_monthly_mean_smart)"
   ]
  },
  {
   "cell_type": "markdown",
   "metadata": {},
   "source": [
    "#### Вывод:\n",
    "1. Среднее распределение использования количества минут в месяц имеет тип близкий к нормальному, большинство пользователей разговаривают в среднем от 350 до 550 минут в месяц, небольшая часть разговаривает либо меньше 100 минут либо больше 800\n",
    "2. Распределение величины среднего использование Гигабайт имеет нормальный тип распределения. Большей части пользователей требуется до 18 ГБ в месяц.\n",
    "3. Смс пользователи используют не такое большое количество, основная масса пользователей до 50 сообщений в месяц, распределение больше соответствует Пуассону или дата сету скошенному в право\n",
    "4. Распределение среднемесяцного дохода также соответствует больше Пуассоновскому, основная масса людей платит до 1500 рублей в месяц, но присутствуют пользователи которые платят 3000 и больше\n"
   ]
  },
  {
   "cell_type": "markdown",
   "metadata": {},
   "source": [
    "##### Распределение для тарифа Ультра"
   ]
  },
  {
   "cell_type": "code",
   "execution_count": 152,
   "metadata": {},
   "outputs": [
    {
     "data": {
      "image/png": "[encoded data removed]",
      "text/plain": [
       "<Figure size 576x360 with 1 Axes>"
      ]
     },
     "metadata": {
      "needs_background": "light"
     },
     "output_type": "display_data"
    },
    {
     "data": {
      "image/png": "[encoded data removed]",
      "text/plain": [
       "<Figure size 576x360 with 1 Axes>"
      ]
     },
     "metadata": {
      "needs_background": "light"
     },
     "output_type": "display_data"
    },
    {
     "data": {
      "image/png": "[encoded data removed]",
      "text/plain": [
       "<Figure size 576x360 with 1 Axes>"
      ]
     },
     "metadata": {
      "needs_background": "light"
     },
     "output_type": "display_data"
    },
    {
     "data": {
      "image/png": "[encoded data removed]",
      "text/plain": [
       "<Figure size 576x360 with 1 Axes>"
      ]
     },
     "metadata": {
      "needs_background": "light"
     },
     "output_type": "display_data"
    }
   ],
   "source": [
    "hist_for_tarrif(data_monthly_mean_ultra)"
   ]
  },
  {
   "cell_type": "markdown",
   "metadata": {},
   "source": [
    "#### Вывод:\n",
    "\n",
    "1. Среднее распределение использования количества минут в месяц имеет тип близкий к нормальному, большинство пользователей разговаривают в среднем около 500 минут в месяц, небольшая часть разговаривает либо меньше 150 минут либо больше 875\n",
    "2. Распределение величины среднего использование Гигабайт имеет нормальный тип распределения. Большей части пользователей требуется до 25 ГБ в месяц.\n",
    "3. Смс пользователи используют не такое большое количество, основная масса пользователей до 50 сообщений в месяц, распределение больше соответствует Пуассону или дата сету скошенному в право\n",
    "4. Распределение среднемесяцного дохода также соответствует больше Пуассоновскому, основная масса людей платит только абонентскую плату, но присутствуют пользователи которые платят и свер ее.\n"
   ]
  },
  {
   "cell_type": "markdown",
   "metadata": {},
   "source": [
    "## 4. Проверка гипотез"
   ]
  },
  {
   "cell_type": "markdown",
   "metadata": {},
   "source": [
    "#### Проверим гипотезу о равенстве средней выручки для тарифов «Ультра» и «Смарт»\n",
    "+ Для сравления двух выборок (тариф «Ультра» и «Смарт») воспользуемся методом `scipy.stats.ttest_ind()`\n",
    "+ т.к. дисперсия отличается для двух выборок значительно отличается, что также видно по гистограммам, то принято параметр `equal_var ` принять равный `False`\n",
    "+ Критический уровень статистической значимости выберем `alpha = 0.05`, в соответствии с общепринятыми пороговыми значениями\n",
    "+ Нулевую гипотезу сформулируем исходя о равенстве средних, тогда:\n",
    " + H0 - средние значения для тарифов «Ультра» и «Смарт» равны;\n",
    " + Н1 - среднее значения для тарифа «Ультра» больше чем для тарифа «Смарт»;\n"
   ]
  },
  {
   "cell_type": "code",
   "execution_count": 153,
   "metadata": {},
   "outputs": [],
   "source": [
    "def stat_ttest_ind_chek(set1, set2, alpha, eq_var=None, set1_name=None, set2_name=None):\n",
    "    \"\"\"\n",
    "    Функция возращает результат принятия или отвержения гипотез:\n",
    "    H0 - средние set1 = set2\n",
    "    H1 - средние set1 < set2    \n",
    "    \"\"\"\n",
    "    #Произведем статестический тест\n",
    "    result = st.ttest_ind(\n",
    "        set1,\n",
    "        set2,\n",
    "        equal_var=eq_var\n",
    "    )\n",
    "    print('p-value = ', result.pvalue)\n",
    "    #Выведем результат:\n",
    "    #Если p-value(уровень значимости, полученный путем определения разницы количества станрартных отклонений,\n",
    "    #между сравниваемыми выличинами) меньше нашего критерия статистической значимости, то вероятность получить\n",
    "    #выборку удовлетворяющую нашей гипотезе очень низкая\n",
    "    print('Проверим нулевую гипотезу H0 - средние {} и {} равны:'.format(set1_name, set2_name))\n",
    "    if (result.pvalue < alpha):\n",
    "        print(\"Отвергаем нулевую гипотезу\")\n",
    "        print('Cредние значения различаются')\n",
    "        print('\\n\\nПроверим альтернативную гипотезу H1 - среднее {} меньше среднего {}:'.format(set1_name, set2_name))\n",
    "        \n",
    "        if (result.pvalue / 2 < alpha) and (set1.mean() < set2.mean()):\n",
    "            print('Не получилось отвергнуть альтернативную гипотезу')\n",
    "        else:\n",
    "            print(\"Отвергаем альтернативную гипотезу\")\n",
    "    else:\n",
    "        print(\"Не получилось отвергнуть нулевую гипотезу\")\n",
    "    \n",
    "    "
   ]
  },
  {
   "cell_type": "code",
   "execution_count": 154,
   "metadata": {},
   "outputs": [
    {
     "name": "stdout",
     "output_type": "stream",
     "text": [
      "p-value =  5.26252224448908e-59\n",
      "Проверим нулевую гипотезу H0 - средние Smart и Ultra равны:\n",
      "Отвергаем нулевую гипотезу\n",
      "Cредние значения различаются\n",
      "\n",
      "\n",
      "Проверим альтернативную гипотезу H1 - среднее Smart меньше среднего Ultra:\n",
      "Не получилось отвергнуть альтернативную гипотезу\n"
     ]
    }
   ],
   "source": [
    "stat_ttest_ind_chek(\n",
    "    set1=data_monthly_mean_smart.monthly_income_mean,\n",
    "    set2=data_monthly_mean_ultra.monthly_income_mean,\n",
    "    alpha=0.05,\n",
    "    eq_var=False,\n",
    "    set1_name='Smart',\n",
    "    set2_name='Ultra'\n",
    ")"
   ]
  },
  {
   "cell_type": "markdown",
   "metadata": {},
   "source": [
    "Проверим для `alpha=0.01`"
   ]
  },
  {
   "cell_type": "code",
   "execution_count": 155,
   "metadata": {},
   "outputs": [
    {
     "name": "stdout",
     "output_type": "stream",
     "text": [
      "p-value =  5.26252224448908e-59\n",
      "Проверим нулевую гипотезу H0 - средние Smart и Ultra равны:\n",
      "Отвергаем нулевую гипотезу\n",
      "Cредние значения различаются\n",
      "\n",
      "\n",
      "Проверим альтернативную гипотезу H1 - среднее Smart меньше среднего Ultra:\n",
      "Не получилось отвергнуть альтернативную гипотезу\n"
     ]
    }
   ],
   "source": [
    "stat_ttest_ind_chek(\n",
    "    set1=data_monthly_mean_smart.monthly_income_mean,\n",
    "    set2=data_monthly_mean_ultra.monthly_income_mean,\n",
    "    alpha=0.01,\n",
    "    eq_var=False,\n",
    "    set1_name='Smart',\n",
    "    set2_name='Ultra'\n",
    ")"
   ]
  },
  {
   "cell_type": "markdown",
   "metadata": {},
   "source": [
    "#### Проверим гипотезу 'средняя выручка пользователей из Москвы отличается от выручки пользователей из других регионов'\n",
    "+ Для сравления двух выборок (выручка по москве и выручка по регионам) воспользуемся методом `scipy.stats.ttest_ind()`\n",
    "+ т.к. дисперсия отличается для двух выборок значительно отличается, что также видно по гистограммам, то принято параметр `equal_var ` принять равный `False`\n",
    "+ Критический уровень статистической значимости выберем `alpha = 0.05`, в соответствии с общепринятыми пороговыми значениями\n",
    "\n",
    "Воспользуемся готовой функцией `stat_ttest_ind_chek`, тогда:\n",
    "+ Нулевую гипотезу сформулируем исходя о равенстве средних, тогда:\n",
    " + H0 - средние значения выручки для Москвы и для регионов равны;\n",
    " + Н1 - среднее значения выручки для Москвы больше чем для регионов;\n"
   ]
  },
  {
   "cell_type": "markdown",
   "metadata": {},
   "source": [
    "Подготовим данные, добавим колонку с городом и отсортируем"
   ]
  },
  {
   "cell_type": "code",
   "execution_count": 156,
   "metadata": {},
   "outputs": [],
   "source": [
    "data_monthly_mean = data_monthly_mean.join(data_users['city'])"
   ]
  },
  {
   "cell_type": "code",
   "execution_count": 157,
   "metadata": {},
   "outputs": [],
   "source": [
    "data_monthly_income_msk = (\n",
    "    data_monthly_mean.loc[data_monthly_mean.city == 'Москва', 'monthly_income_mean']\n",
    ")\n",
    "data_monthly_income_regions  = (\n",
    "    data_monthly_mean.loc[data_monthly_mean.city != 'Москва', 'monthly_income_mean']\n",
    ")"
   ]
  },
  {
   "cell_type": "markdown",
   "metadata": {},
   "source": [
    "Проверим для `alpha = 0.05`"
   ]
  },
  {
   "cell_type": "code",
   "execution_count": 158,
   "metadata": {},
   "outputs": [
    {
     "name": "stdout",
     "output_type": "stream",
     "text": [
      "p-value =  0.36837479573900667\n",
      "Проверим нулевую гипотезу H0 - средние Регионы и Москва равны:\n",
      "Не получилось отвергнуть нулевую гипотезу\n"
     ]
    }
   ],
   "source": [
    "stat_ttest_ind_chek(\n",
    "    set1=data_monthly_income_regions,\n",
    "    set2=data_monthly_income_msk,\n",
    "    alpha=0.05,\n",
    "    eq_var=False,\n",
    "    set1_name='Регионы',\n",
    "    set2_name='Москва'\n",
    ")"
   ]
  },
  {
   "cell_type": "markdown",
   "metadata": {},
   "source": [
    "Не получилось отвергнуть нулевую гипотезу, следовательно гипотезу о том, что средние в Москве и регионах различаются придется отвергнуть, также это заметно по величене pvalue - почти 37%"
   ]
  },
  {
   "cell_type": "markdown",
   "metadata": {},
   "source": [
    "### Вывод\n",
    "1. В текущем шаге проверили гипотезы о равенстве выручек на тарифах \"Ультра\" и \"Смарт\"\n",
    "2. Проверили гипотезы о равенстве выручек в Москве и Регионах.\n",
    "3. По итогу получили:\n",
    " + что средняя выручка для тарифа \"Ультра\" больше чем для тарифа \"Смарт\"\n",
    " + средние выручки для Москвы и регионов не отличаются.\n"
   ]
  },
  {
   "cell_type": "markdown",
   "metadata": {},
   "source": [
    "## Вывод"
   ]
  },
  {
   "cell_type": "markdown",
   "metadata": {},
   "source": [
    "1. Общая информация о данных\n",
    " + Данные вполне подготовленными, дубликатов не обнаружено, необходимо произвести следующие подготовительные работы:\n",
    " + Привести к соответствующему виду дату и время\n",
    " + т.к. округление идет к верхней границе, то необходимо длительность звонков и мегабайтов траффка округлить до верхнего значения\n",
    " \n",
    " \n",
    "2. Подготовка данных\n",
    "\n",
    " 1. Проверили наличие ошибок:\n",
    "    + В названии городов ошибок не выявлено\n",
    "    + критических ошибок не обнаружено\n",
    "    + нулевые значения принято исключить, т.к. они не несут информации о стоимости звонка(Мб) и использовании лимита, отведенного на тарифе, скорее всего это пропущенные вызовы\n",
    "    + Проверили корректность дат регистрации и совершенных действий - все действия пользователя были после даты регистрации\n",
    "\n",
    " 2. Определили ежемесечную выручку от каждого пользователя и сохранили в 5-ти переменных:\n",
    "    + calls_income - выручка от звонков\n",
    "    + mess_income - выручка от смс\n",
    "    + traffic_income - выручка от использования интернета\n",
    "    + fee_income - выручка от абонентской платы\n",
    "    + total_income - общая выручка\n",
    "    \n",
    "\n",
    "3. Анализ данных:\n",
    " 1. В среднем на тарифе Ультра пользуются среднемесячное значение использованных минут больше почти на 30%\n",
    " 2. На 20% больше используют интернет\n",
    " 3. и почти в 2 раза больше пользуются смс\n",
    " 4. Стандартные отклонения на тарифе Смарт меньше почти в 2 раза, чем на Ультра, говорит о том, значения средние значения для тарифа Смарт более однородные, больший разброс средних значений соответствует тарифу Ультра.\n",
    " 5. Для значений ежемесячного дохода наблюдается следующая картина:\n",
    "    + В среднее показывает то, что пользователи тарифа Смарт платят меньше чем пользователи тарифа Ультра\n",
    "    + Однако тарифу Смарт соответствует большая дисперсия и стандартное отклонение, получается, что:\n",
    "       + верхняя граница платежей для тарифа смарт соответствует примерно mean + 3*std = 3149.746;\n",
    "       + а для тарифа Ультра mean + 3*std = 2986.623\n",
    "       + получается что некоторые пользователи на Смарте платят больше чем пользователи Ультра.\n",
    "  \n",
    "  \n",
    "4. Анализ данных Тариф \"Смарт\"\n",
    " + Среднее распределение использования количества минут в месяц имеет тип близкий к нормальному, большинство пользователей разговаривают в среднем от 350 до 550 минут в месяц, небольшая часть разговаривает либо меньше 100 минут либо больше 800\n",
    " + Распределение величины среднего использование Гигабайт имеет нормальный тип распределения. Большей части пользователей требуется до 18 ГБ в месяц.\n",
    " + Смс пользователи используют не такое большое количество, основная масса пользователей до 50 сообщений в месяц, распределение больше соответствует Пуассону или дата сету скошенному в право\n",
    " + Распределение среднемесяцного дохода также соответствует больше Пуассоновскому, основная масса людей платит до 1500 рублей в месяц, но присутствуют пользователи которые платят 3000 и больше\n",
    "\n",
    "\n",
    "5. Анализ данных Тариф \"Ультра\" \n",
    " + Среднее распределение использования количества минут в месяц имеет тип близкий к нормальному, большинство пользователей разговаривают в среднем около 500 минут в месяц, небольшая часть разговаривает либо меньше 150 минут либо больше 875\n",
    " + Распределение величины среднего использование Гигабайт имеет нормальный тип распределения. Большей части пользователей требуется до 25 ГБ в месяц.\n",
    " + Смс пользователи используют не такое большое количество, основная масса пользователей до 50 сообщений в месяц, распределение больше соответствует Пуассону или дата сету скошенному в право\n",
    " + Распределение среднемесяцного дохода также соответствует больше Пуассоновскому, основная масса людей платит только абонентскую плату, но присутствуют пользователи которые платят и свер ее.\n",
    "\n",
    "\n",
    "6. Проверка гипотез\n",
    " 1. Проверили гипотезы о равенстве выручек на тарифах \"Ультра\" и \"Смарт\"\n",
    " 2. Проверили гипотезы о равенстве выручек в Москве и Регионах.\n",
    " 3. По итогу получили:\n",
    "    + что средняя выручка для тарифа \"Ультра\" больше чем для тарифа \"Смарт\"\n",
    "    + средние выручки для Москвы и регионов не отличаются.\n",
    "    \n",
    "Общий вывод:\n",
    "1. Тариф  \"Ультра\" приносит больше выручки по сравнению с тарифом \"Смарт\"\n",
    "2. У отдельных пользователей наблюдается больший ежемесечный платеж на тарифе \"Смарт\" чем средний(или даже максимальный) на тарифе \"Ультра\"."
   ]
  }
 ],
 "metadata": {
  "kernelspec": {
   "display_name": "Python 3",
   "language": "python",
   "name": "python3"
  },
  "language_info": {
   "codemirror_mode": {
    "name": "ipython",
    "version": 3
   },
   "file_extension": ".py",
   "mimetype": "text/x-python",
   "name": "python",
   "nbconvert_exporter": "python",
   "pygments_lexer": "ipython3",
   "version": "3.8.3"
  }
 },
 "nbformat": 4,
 "nbformat_minor": 2
}
